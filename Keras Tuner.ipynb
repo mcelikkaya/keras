{
 "cells": [
  {
   "cell_type": "code",
   "execution_count": 38,
   "metadata": {},
   "outputs": [],
   "source": [
    "'''\n",
    "Trying the configuration for keras tuner.\n",
    "I create a dummy dataframe with categorical variables and \n",
    "categorical target.\n",
    "\n",
    "'''\n",
    "import numpy as np\n",
    "import tensorflow as tf\n",
    "from tensorflow import keras\n",
    "import pandas as pd\n",
    "import seaborn as sns\n",
    "from pylab import rcParams\n",
    "import matplotlib.pyplot as plt\n",
    "from matplotlib import rc\n",
    "from sklearn.model_selection import train_test_split\n",
    "from pprint import pprint\n",
    "from kerastuner.tuners import RandomSearch"
   ]
  },
  {
   "cell_type": "code",
   "execution_count": 2,
   "metadata": {},
   "outputs": [],
   "source": [
    "\n",
    "def gen_dataset(dim):\n",
    "  a1 = np.random.randint(0, 50, dim)\n",
    "  a2 = a1 +  np.random.randint(0, 10, dim)\n",
    "  b1=  np.random.randint(0, 50, dim)\n",
    "  b2=  b1 * np.random.randint(0, 10, dim)    \n",
    "  c1 = np.random.randint(0,100,dim)  \n",
    "  data = pd.DataFrame(np.column_stack([a1,a2,b1,b2,c1]),columns=['a1','a2','b1','b2','c1'])\n",
    "  return data\n",
    "\n",
    "def to_categorical(df):\n",
    "    for col in df.columns:\n",
    "        if \"a\" in col:\n",
    "            df[col] = df[col] % 10\n",
    "        else:    \n",
    "            df[col] = df[col] % 20\n",
    "    return df    \n",
    "\n",
    "def gen_dataset2(dim):\n",
    "  a1 = np.random.randint(0, 50, dim)\n",
    "  a2 = a1 * np.random.uniform(0.8,1.2,dim)\n",
    "  b1=  np.random.randint(0, 50, dim)\n",
    "  b2=  b1 * np.random.randint(0, 10, dim)    \n",
    "  c1 = np.random.randint(0,100,dim)  \n",
    "  data = pd.DataFrame(np.column_stack([a1,a2,b1,b2,c1]),columns=['a1','a2','b1','b2','c1'])\n",
    "  return data\n",
    "\n",
    "def addy(pdd_orig,ycalc):\n",
    "  pdcopy = pdd_orig.copy()\n",
    "  pdcopy[\"y\"] = ycalc\n",
    "  return pdcopy"
   ]
  },
  {
   "cell_type": "code",
   "execution_count": 3,
   "metadata": {},
   "outputs": [
    {
     "name": "stdout",
     "output_type": "stream",
     "text": [
      "   a1  a2  b1   b2  c1  y\n",
      "0  16  19  32  256  44  0\n",
      "1  12  13  18  162  90  0\n",
      "2  26  27  38   76  38  0\n",
      "3  34  37  17  119  79  1\n",
      "4   6  15  12  108  68  0\n",
      "5   1   9  37    0   8  0\n",
      "6   2   3  44  396  23  0\n",
      "7   0   3  12    0  93  0\n",
      "8   2   7  27  108  99  1\n",
      "9   2   8  44  264  98  0\n"
     ]
    }
   ],
   "source": [
    "#generate a random dataframe\n",
    "pdd = gen_dataset(100)\n",
    "test_set = addy(pdd, (pdd[\"a1\"]*1+1*pdd[\"b1\"])%2  ) \n",
    "print( test_set.head(10))"
   ]
  },
  {
   "cell_type": "code",
   "execution_count": 4,
   "metadata": {},
   "outputs": [
    {
     "data": {
      "text/html": [
       "<div>\n",
       "<style scoped>\n",
       "    .dataframe tbody tr th:only-of-type {\n",
       "        vertical-align: middle;\n",
       "    }\n",
       "\n",
       "    .dataframe tbody tr th {\n",
       "        vertical-align: top;\n",
       "    }\n",
       "\n",
       "    .dataframe thead th {\n",
       "        text-align: right;\n",
       "    }\n",
       "</style>\n",
       "<table border=\"1\" class=\"dataframe\">\n",
       "  <thead>\n",
       "    <tr style=\"text-align: right;\">\n",
       "      <th></th>\n",
       "      <th>a1</th>\n",
       "      <th>a2</th>\n",
       "      <th>b1</th>\n",
       "      <th>b2</th>\n",
       "      <th>c1</th>\n",
       "      <th>y</th>\n",
       "    </tr>\n",
       "  </thead>\n",
       "  <tbody>\n",
       "    <tr>\n",
       "      <th>0</th>\n",
       "      <td>6</td>\n",
       "      <td>9</td>\n",
       "      <td>12</td>\n",
       "      <td>16</td>\n",
       "      <td>4</td>\n",
       "      <td>0</td>\n",
       "    </tr>\n",
       "    <tr>\n",
       "      <th>1</th>\n",
       "      <td>2</td>\n",
       "      <td>3</td>\n",
       "      <td>18</td>\n",
       "      <td>2</td>\n",
       "      <td>10</td>\n",
       "      <td>0</td>\n",
       "    </tr>\n",
       "    <tr>\n",
       "      <th>2</th>\n",
       "      <td>6</td>\n",
       "      <td>7</td>\n",
       "      <td>18</td>\n",
       "      <td>16</td>\n",
       "      <td>18</td>\n",
       "      <td>0</td>\n",
       "    </tr>\n",
       "    <tr>\n",
       "      <th>3</th>\n",
       "      <td>4</td>\n",
       "      <td>7</td>\n",
       "      <td>17</td>\n",
       "      <td>19</td>\n",
       "      <td>19</td>\n",
       "      <td>1</td>\n",
       "    </tr>\n",
       "    <tr>\n",
       "      <th>4</th>\n",
       "      <td>6</td>\n",
       "      <td>5</td>\n",
       "      <td>12</td>\n",
       "      <td>8</td>\n",
       "      <td>8</td>\n",
       "      <td>0</td>\n",
       "    </tr>\n",
       "    <tr>\n",
       "      <th>5</th>\n",
       "      <td>1</td>\n",
       "      <td>9</td>\n",
       "      <td>17</td>\n",
       "      <td>0</td>\n",
       "      <td>8</td>\n",
       "      <td>0</td>\n",
       "    </tr>\n",
       "    <tr>\n",
       "      <th>6</th>\n",
       "      <td>2</td>\n",
       "      <td>3</td>\n",
       "      <td>4</td>\n",
       "      <td>16</td>\n",
       "      <td>3</td>\n",
       "      <td>0</td>\n",
       "    </tr>\n",
       "    <tr>\n",
       "      <th>7</th>\n",
       "      <td>0</td>\n",
       "      <td>3</td>\n",
       "      <td>12</td>\n",
       "      <td>0</td>\n",
       "      <td>13</td>\n",
       "      <td>0</td>\n",
       "    </tr>\n",
       "    <tr>\n",
       "      <th>8</th>\n",
       "      <td>2</td>\n",
       "      <td>7</td>\n",
       "      <td>7</td>\n",
       "      <td>8</td>\n",
       "      <td>19</td>\n",
       "      <td>1</td>\n",
       "    </tr>\n",
       "    <tr>\n",
       "      <th>9</th>\n",
       "      <td>2</td>\n",
       "      <td>8</td>\n",
       "      <td>4</td>\n",
       "      <td>4</td>\n",
       "      <td>18</td>\n",
       "      <td>0</td>\n",
       "    </tr>\n",
       "  </tbody>\n",
       "</table>\n",
       "</div>"
      ],
      "text/plain": [
       "   a1  a2  b1  b2  c1  y\n",
       "0   6   9  12  16   4  0\n",
       "1   2   3  18   2  10  0\n",
       "2   6   7  18  16  18  0\n",
       "3   4   7  17  19  19  1\n",
       "4   6   5  12   8   8  0\n",
       "5   1   9  17   0   8  0\n",
       "6   2   3   4  16   3  0\n",
       "7   0   3  12   0  13  0\n",
       "8   2   7   7   8  19  1\n",
       "9   2   8   4   4  18  0"
      ]
     },
     "execution_count": 4,
     "metadata": {},
     "output_type": "execute_result"
    }
   ],
   "source": [
    "#convert this dataframe to categorical variables\n",
    "df2 = to_categorical(test_set)\n",
    "df2.head(10)"
   ]
  },
  {
   "cell_type": "code",
   "execution_count": 5,
   "metadata": {},
   "outputs": [],
   "source": [
    "#create X and y variables\n",
    "X = df2.drop('y', axis=1)\n",
    "y = df2.y"
   ]
  },
  {
   "cell_type": "code",
   "execution_count": 6,
   "metadata": {},
   "outputs": [],
   "source": [
    "X_train, X_test, y_train, y_test = train_test_split(X, y, test_size=0.2)"
   ]
  },
  {
   "cell_type": "code",
   "execution_count": 7,
   "metadata": {},
   "outputs": [
    {
     "data": {
      "text/html": [
       "<div>\n",
       "<style scoped>\n",
       "    .dataframe tbody tr th:only-of-type {\n",
       "        vertical-align: middle;\n",
       "    }\n",
       "\n",
       "    .dataframe tbody tr th {\n",
       "        vertical-align: top;\n",
       "    }\n",
       "\n",
       "    .dataframe thead th {\n",
       "        text-align: right;\n",
       "    }\n",
       "</style>\n",
       "<table border=\"1\" class=\"dataframe\">\n",
       "  <thead>\n",
       "    <tr style=\"text-align: right;\">\n",
       "      <th></th>\n",
       "      <th>a1</th>\n",
       "      <th>a2</th>\n",
       "      <th>b1</th>\n",
       "      <th>b2</th>\n",
       "      <th>c1</th>\n",
       "    </tr>\n",
       "  </thead>\n",
       "  <tbody>\n",
       "    <tr>\n",
       "      <th>83</th>\n",
       "      <td>1</td>\n",
       "      <td>7</td>\n",
       "      <td>7</td>\n",
       "      <td>2</td>\n",
       "      <td>2</td>\n",
       "    </tr>\n",
       "    <tr>\n",
       "      <th>62</th>\n",
       "      <td>5</td>\n",
       "      <td>6</td>\n",
       "      <td>0</td>\n",
       "      <td>0</td>\n",
       "      <td>1</td>\n",
       "    </tr>\n",
       "    <tr>\n",
       "      <th>37</th>\n",
       "      <td>9</td>\n",
       "      <td>1</td>\n",
       "      <td>9</td>\n",
       "      <td>1</td>\n",
       "      <td>15</td>\n",
       "    </tr>\n",
       "    <tr>\n",
       "      <th>40</th>\n",
       "      <td>3</td>\n",
       "      <td>5</td>\n",
       "      <td>7</td>\n",
       "      <td>7</td>\n",
       "      <td>0</td>\n",
       "    </tr>\n",
       "    <tr>\n",
       "      <th>42</th>\n",
       "      <td>7</td>\n",
       "      <td>6</td>\n",
       "      <td>7</td>\n",
       "      <td>1</td>\n",
       "      <td>10</td>\n",
       "    </tr>\n",
       "    <tr>\n",
       "      <th>35</th>\n",
       "      <td>7</td>\n",
       "      <td>6</td>\n",
       "      <td>6</td>\n",
       "      <td>4</td>\n",
       "      <td>8</td>\n",
       "    </tr>\n",
       "    <tr>\n",
       "      <th>11</th>\n",
       "      <td>8</td>\n",
       "      <td>8</td>\n",
       "      <td>2</td>\n",
       "      <td>12</td>\n",
       "      <td>7</td>\n",
       "    </tr>\n",
       "    <tr>\n",
       "      <th>55</th>\n",
       "      <td>9</td>\n",
       "      <td>2</td>\n",
       "      <td>14</td>\n",
       "      <td>16</td>\n",
       "      <td>15</td>\n",
       "    </tr>\n",
       "    <tr>\n",
       "      <th>22</th>\n",
       "      <td>0</td>\n",
       "      <td>6</td>\n",
       "      <td>8</td>\n",
       "      <td>12</td>\n",
       "      <td>6</td>\n",
       "    </tr>\n",
       "    <tr>\n",
       "      <th>91</th>\n",
       "      <td>6</td>\n",
       "      <td>2</td>\n",
       "      <td>0</td>\n",
       "      <td>0</td>\n",
       "      <td>6</td>\n",
       "    </tr>\n",
       "  </tbody>\n",
       "</table>\n",
       "</div>"
      ],
      "text/plain": [
       "    a1  a2  b1  b2  c1\n",
       "83   1   7   7   2   2\n",
       "62   5   6   0   0   1\n",
       "37   9   1   9   1  15\n",
       "40   3   5   7   7   0\n",
       "42   7   6   7   1  10\n",
       "35   7   6   6   4   8\n",
       "11   8   8   2  12   7\n",
       "55   9   2  14  16  15\n",
       "22   0   6   8  12   6\n",
       "91   6   2   0   0   6"
      ]
     },
     "execution_count": 7,
     "metadata": {},
     "output_type": "execute_result"
    }
   ],
   "source": [
    "X_train.head(10)"
   ]
  },
  {
   "cell_type": "code",
   "execution_count": 39,
   "metadata": {},
   "outputs": [],
   "source": [
    "#I tried multiple configurations at once\n",
    "def tune_optimizer_model(hp):\n",
    "    model = keras.Sequential()\n",
    "    \n",
    "    #hyperparameters to test\n",
    "    activation = hp.Choice('activation',['softmax', 'softplus',  'relu', 'tanh', 'sigmoid',  'linear'])\n",
    "    optimizer = hp.Choice('optimizer', ['adam', 'sgd', 'rmsprop'])\n",
    "    units_hp =hp.Int('units',min_value=8,max_value=128,step=16)\n",
    "    model.add(keras.layers.Dense(units=units_hp, activation=activation, input_shape=[X_train.shape[1]]))\n",
    "    drop_rate_hp = hp.Choice('drop_rate',[0.0,0.1,0.2,0.3,0.3,0.6,0.8])\n",
    "        \n",
    "    model.add(keras.layers.Dropout(rate=drop_rate_hp))    \n",
    "    model.add(keras.layers.Dense(1, activation='sigmoid'))\n",
    "\n",
    "    \n",
    "\n",
    "    model.compile(\n",
    "        optimizer=optimizer,\n",
    "        loss = 'binary_crossentropy', \n",
    "        metrics = ['accuracy'])\n",
    "    return model"
   ]
  },
  {
   "cell_type": "code",
   "execution_count": 41,
   "metadata": {},
   "outputs": [
    {
     "data": {
      "text/html": [
       "<span style=\"color:#4527A0\"><h1 style=\"font-size:18px\">Search space summary</h1></span>"
      ],
      "text/plain": [
       "<IPython.core.display.HTML object>"
      ]
     },
     "metadata": {},
     "output_type": "display_data"
    },
    {
     "data": {
      "text/html": [
       "<span style=\"color:cyan\"> |-Default search space size: 4</span>"
      ],
      "text/plain": [
       "<IPython.core.display.HTML object>"
      ]
     },
     "metadata": {},
     "output_type": "display_data"
    },
    {
     "data": {
      "text/html": [
       "<span style=\"color:#7E57C2\"><h2 style=\"font-size:16px\">activation (Choice)</h2></span>"
      ],
      "text/plain": [
       "<IPython.core.display.HTML object>"
      ]
     },
     "metadata": {},
     "output_type": "display_data"
    },
    {
     "data": {
      "text/html": [
       "<span style=\"color:cyan\"> |-default: softmax</span>"
      ],
      "text/plain": [
       "<IPython.core.display.HTML object>"
      ]
     },
     "metadata": {},
     "output_type": "display_data"
    },
    {
     "data": {
      "text/html": [
       "<span style=\"color:blue\"> |-ordered: False</span>"
      ],
      "text/plain": [
       "<IPython.core.display.HTML object>"
      ]
     },
     "metadata": {},
     "output_type": "display_data"
    },
    {
     "data": {
      "text/html": [
       "<span style=\"color:cyan\"> |-values: ['softmax', 'softplus', 'relu', 'tanh', 'sigmoid', 'linear']</span>"
      ],
      "text/plain": [
       "<IPython.core.display.HTML object>"
      ]
     },
     "metadata": {},
     "output_type": "display_data"
    },
    {
     "data": {
      "text/html": [
       "<span style=\"color:#7E57C2\"><h2 style=\"font-size:16px\">optimizer (Choice)</h2></span>"
      ],
      "text/plain": [
       "<IPython.core.display.HTML object>"
      ]
     },
     "metadata": {},
     "output_type": "display_data"
    },
    {
     "data": {
      "text/html": [
       "<span style=\"color:cyan\"> |-default: adam</span>"
      ],
      "text/plain": [
       "<IPython.core.display.HTML object>"
      ]
     },
     "metadata": {},
     "output_type": "display_data"
    },
    {
     "data": {
      "text/html": [
       "<span style=\"color:blue\"> |-ordered: False</span>"
      ],
      "text/plain": [
       "<IPython.core.display.HTML object>"
      ]
     },
     "metadata": {},
     "output_type": "display_data"
    },
    {
     "data": {
      "text/html": [
       "<span style=\"color:cyan\"> |-values: ['adam', 'sgd', 'rmsprop']</span>"
      ],
      "text/plain": [
       "<IPython.core.display.HTML object>"
      ]
     },
     "metadata": {},
     "output_type": "display_data"
    },
    {
     "data": {
      "text/html": [
       "<span style=\"color:#7E57C2\"><h2 style=\"font-size:16px\">units (Int)</h2></span>"
      ],
      "text/plain": [
       "<IPython.core.display.HTML object>"
      ]
     },
     "metadata": {},
     "output_type": "display_data"
    },
    {
     "data": {
      "text/html": [
       "<span style=\"color:cyan\"> |-default: None</span>"
      ],
      "text/plain": [
       "<IPython.core.display.HTML object>"
      ]
     },
     "metadata": {},
     "output_type": "display_data"
    },
    {
     "data": {
      "text/html": [
       "<span style=\"color:blue\"> |-max_value: 128</span>"
      ],
      "text/plain": [
       "<IPython.core.display.HTML object>"
      ]
     },
     "metadata": {},
     "output_type": "display_data"
    },
    {
     "data": {
      "text/html": [
       "<span style=\"color:cyan\"> |-min_value: 8</span>"
      ],
      "text/plain": [
       "<IPython.core.display.HTML object>"
      ]
     },
     "metadata": {},
     "output_type": "display_data"
    },
    {
     "data": {
      "text/html": [
       "<span style=\"color:blue\"> |-sampling: None</span>"
      ],
      "text/plain": [
       "<IPython.core.display.HTML object>"
      ]
     },
     "metadata": {},
     "output_type": "display_data"
    },
    {
     "data": {
      "text/html": [
       "<span style=\"color:cyan\"> |-step: 16</span>"
      ],
      "text/plain": [
       "<IPython.core.display.HTML object>"
      ]
     },
     "metadata": {},
     "output_type": "display_data"
    },
    {
     "data": {
      "text/html": [
       "<span style=\"color:#7E57C2\"><h2 style=\"font-size:16px\">drop_rate (Choice)</h2></span>"
      ],
      "text/plain": [
       "<IPython.core.display.HTML object>"
      ]
     },
     "metadata": {},
     "output_type": "display_data"
    },
    {
     "data": {
      "text/html": [
       "<span style=\"color:cyan\"> |-default: 0.0</span>"
      ],
      "text/plain": [
       "<IPython.core.display.HTML object>"
      ]
     },
     "metadata": {},
     "output_type": "display_data"
    },
    {
     "data": {
      "text/html": [
       "<span style=\"color:blue\"> |-ordered: True</span>"
      ],
      "text/plain": [
       "<IPython.core.display.HTML object>"
      ]
     },
     "metadata": {},
     "output_type": "display_data"
    },
    {
     "data": {
      "text/html": [
       "<span style=\"color:cyan\"> |-values: [0.0, 0.1, 0.2, 0.3, 0.3, 0.6, 0.8]</span>"
      ],
      "text/plain": [
       "<IPython.core.display.HTML object>"
      ]
     },
     "metadata": {},
     "output_type": "display_data"
    }
   ],
   "source": [
    "tuner = RandomSearch(\n",
    "    tune_optimizer_model,\n",
    "    objective='val_accuracy',\n",
    "    max_trials=10,\n",
    "    executions_per_trial=2,\n",
    "    directory='test_dir', \n",
    "    project_name='tune_optimizer9',\n",
    "    seed=12\n",
    ")\n",
    "\n",
    "tuner.search_space_summary()"
   ]
  },
  {
   "cell_type": "code",
   "execution_count": 42,
   "metadata": {},
   "outputs": [
    {
     "name": "stdout",
     "output_type": "stream",
     "text": [
      "WARNING:tensorflow:Falling back from v2 loop because of error: Failed to find data adapter that can handle input: <class 'pandas.core.frame.DataFrame'>, <class 'NoneType'>\n",
      "Train on 80 samples, validate on 20 samples\n",
      "Epoch 1/10\n",
      "80/80 [==============================] - ETA: 0s - loss: 0.7779 - accuracy: 0.56 - 0s 6ms/sample - loss: 0.8463 - accuracy: 0.5625 - val_loss: 0.8768 - val_accuracy: 0.5500\n",
      "Epoch 2/10\n",
      "80/80 [==============================] - ETA: 0s - loss: 0.7669 - accuracy: 0.53 - 0s 497us/sample - loss: 0.8057 - accuracy: 0.5500 - val_loss: 0.8511 - val_accuracy: 0.5500\n",
      "Epoch 3/10\n",
      "80/80 [==============================] - ETA: 0s - loss: 0.6666 - accuracy: 0.62 - 0s 250us/sample - loss: 0.7554 - accuracy: 0.5750 - val_loss: 0.8270 - val_accuracy: 0.5500\n",
      "Epoch 4/10\n",
      "80/80 [==============================] - ETA: 0s - loss: 0.8065 - accuracy: 0.46 - 0s 189us/sample - loss: 0.7162 - accuracy: 0.5625 - val_loss: 0.8173 - val_accuracy: 0.5500\n",
      "Epoch 5/10\n",
      "80/80 [==============================] - ETA: 0s - loss: 0.6461 - accuracy: 0.56 - 0s 121us/sample - loss: 0.7227 - accuracy: 0.6000 - val_loss: 0.8058 - val_accuracy: 0.5500\n",
      "Epoch 6/10\n",
      "80/80 [==============================] - ETA: 0s - loss: 0.6318 - accuracy: 0.68 - 0s 187us/sample - loss: 0.6857 - accuracy: 0.5750 - val_loss: 0.7950 - val_accuracy: 0.5500\n",
      "Epoch 7/10\n",
      "80/80 [==============================] - ETA: 0s - loss: 0.7566 - accuracy: 0.50 - 0s 174us/sample - loss: 0.7353 - accuracy: 0.5625 - val_loss: 0.7847 - val_accuracy: 0.5000\n",
      "Epoch 8/10\n",
      "80/80 [==============================] - ETA: 0s - loss: 0.7147 - accuracy: 0.50 - 0s 181us/sample - loss: 0.7316 - accuracy: 0.5125 - val_loss: 0.7798 - val_accuracy: 0.4500\n",
      "Epoch 9/10\n",
      "80/80 [==============================] - ETA: 0s - loss: 0.6868 - accuracy: 0.50 - 0s 154us/sample - loss: 0.6638 - accuracy: 0.5625 - val_loss: 0.7697 - val_accuracy: 0.4000\n",
      "Epoch 10/10\n",
      "80/80 [==============================] - ETA: 0s - loss: 0.6778 - accuracy: 0.53 - 0s 172us/sample - loss: 0.6925 - accuracy: 0.5375 - val_loss: 0.7684 - val_accuracy: 0.4000\n",
      "WARNING:tensorflow:Falling back from v2 loop because of error: Failed to find data adapter that can handle input: <class 'pandas.core.frame.DataFrame'>, <class 'NoneType'>\n",
      "Train on 80 samples, validate on 20 samples\n",
      "Epoch 1/10\n",
      "80/80 [==============================] - ETA: 0s - loss: 1.0342 - accuracy: 0.43 - 0s 4ms/sample - loss: 1.0792 - accuracy: 0.4125 - val_loss: 0.7955 - val_accuracy: 0.4000\n",
      "Epoch 2/10\n",
      "80/80 [==============================] - ETA: 0s - loss: 0.9297 - accuracy: 0.53 - 0s 282us/sample - loss: 0.9864 - accuracy: 0.4500 - val_loss: 0.7475 - val_accuracy: 0.4500\n",
      "Epoch 3/10\n",
      "80/80 [==============================] - ETA: 0s - loss: 0.7972 - accuracy: 0.53 - 0s 214us/sample - loss: 0.9278 - accuracy: 0.4250 - val_loss: 0.7078 - val_accuracy: 0.5000\n",
      "Epoch 4/10\n",
      "80/80 [==============================] - ETA: 0s - loss: 0.9352 - accuracy: 0.40 - 0s 134us/sample - loss: 0.8892 - accuracy: 0.4125 - val_loss: 0.6825 - val_accuracy: 0.5000\n",
      "Epoch 5/10\n",
      "80/80 [==============================] - ETA: 0s - loss: 0.8235 - accuracy: 0.46 - 0s 119us/sample - loss: 0.8101 - accuracy: 0.5125 - val_loss: 0.6694 - val_accuracy: 0.5500\n",
      "Epoch 6/10\n",
      "80/80 [==============================] - ETA: 0s - loss: 0.8469 - accuracy: 0.43 - 0s 217us/sample - loss: 0.7947 - accuracy: 0.5250 - val_loss: 0.6601 - val_accuracy: 0.5500\n",
      "Epoch 7/10\n",
      "80/80 [==============================] - ETA: 0s - loss: 0.8253 - accuracy: 0.56 - 0s 721us/sample - loss: 0.8605 - accuracy: 0.4375 - val_loss: 0.6565 - val_accuracy: 0.6000\n",
      "Epoch 8/10\n",
      "80/80 [==============================] - ETA: 0s - loss: 0.8019 - accuracy: 0.46 - 0s 660us/sample - loss: 0.7715 - accuracy: 0.4875 - val_loss: 0.6548 - val_accuracy: 0.6500\n",
      "Epoch 9/10\n",
      "80/80 [==============================] - ETA: 0s - loss: 0.8133 - accuracy: 0.43 - 0s 178us/sample - loss: 0.8105 - accuracy: 0.4500 - val_loss: 0.6545 - val_accuracy: 0.6500\n",
      "Epoch 10/10\n",
      "80/80 [==============================] - ETA: 0s - loss: 0.7765 - accuracy: 0.56 - 0s 148us/sample - loss: 0.7733 - accuracy: 0.5375 - val_loss: 0.6553 - val_accuracy: 0.6500\n"
     ]
    },
    {
     "data": {
      "text/html": [
       "<span style=\"color:#4527A0\"><h1 style=\"font-size:18px\">Trial complete</h1></span>"
      ],
      "text/plain": [
       "<IPython.core.display.HTML object>"
      ]
     },
     "metadata": {},
     "output_type": "display_data"
    },
    {
     "data": {
      "text/html": [
       "<span style=\"color:#4527A0\"><h1 style=\"font-size:18px\">Trial summary</h1></span>"
      ],
      "text/plain": [
       "<IPython.core.display.HTML object>"
      ]
     },
     "metadata": {},
     "output_type": "display_data"
    },
    {
     "data": {
      "text/html": [
       "<span style=\"color:cyan\"> |-Trial ID: 667c928f929652e7b09dd43dc77fb3ce</span>"
      ],
      "text/plain": [
       "<IPython.core.display.HTML object>"
      ]
     },
     "metadata": {},
     "output_type": "display_data"
    },
    {
     "data": {
      "text/html": [
       "<span style=\"color:cyan\"> |-Score: 0.6000000238418579</span>"
      ],
      "text/plain": [
       "<IPython.core.display.HTML object>"
      ]
     },
     "metadata": {},
     "output_type": "display_data"
    },
    {
     "data": {
      "text/html": [
       "<span style=\"color:cyan\"> |-Best step: 0</span>"
      ],
      "text/plain": [
       "<IPython.core.display.HTML object>"
      ]
     },
     "metadata": {},
     "output_type": "display_data"
    },
    {
     "data": {
      "text/html": [
       "<span style=\"color:#7E57C2\"><h2 style=\"font-size:16px\">Hyperparameters:</h2></span>"
      ],
      "text/plain": [
       "<IPython.core.display.HTML object>"
      ]
     },
     "metadata": {},
     "output_type": "display_data"
    },
    {
     "data": {
      "text/html": [
       "<span style=\"color:cyan\"> |-activation: tanh</span>"
      ],
      "text/plain": [
       "<IPython.core.display.HTML object>"
      ]
     },
     "metadata": {},
     "output_type": "display_data"
    },
    {
     "data": {
      "text/html": [
       "<span style=\"color:blue\"> |-drop_rate: 0.1</span>"
      ],
      "text/plain": [
       "<IPython.core.display.HTML object>"
      ]
     },
     "metadata": {},
     "output_type": "display_data"
    },
    {
     "data": {
      "text/html": [
       "<span style=\"color:cyan\"> |-optimizer: sgd</span>"
      ],
      "text/plain": [
       "<IPython.core.display.HTML object>"
      ]
     },
     "metadata": {},
     "output_type": "display_data"
    },
    {
     "data": {
      "text/html": [
       "<span style=\"color:blue\"> |-units: 24</span>"
      ],
      "text/plain": [
       "<IPython.core.display.HTML object>"
      ]
     },
     "metadata": {},
     "output_type": "display_data"
    },
    {
     "name": "stdout",
     "output_type": "stream",
     "text": [
      "WARNING:tensorflow:Falling back from v2 loop because of error: Failed to find data adapter that can handle input: <class 'pandas.core.frame.DataFrame'>, <class 'NoneType'>\n",
      "Train on 80 samples, validate on 20 samples\n",
      "Epoch 1/10\n",
      "80/80 [==============================] - ETA: 0s - loss: 3.8841 - accuracy: 0.50 - 1s 6ms/sample - loss: 4.3470 - accuracy: 0.5125 - val_loss: 2.5693 - val_accuracy: 0.4000\n",
      "Epoch 2/10\n",
      "80/80 [==============================] - ETA: 0s - loss: 3.9183 - accuracy: 0.50 - 0s 411us/sample - loss: 3.7281 - accuracy: 0.5375 - val_loss: 2.3016 - val_accuracy: 0.4000\n",
      "Epoch 3/10\n",
      "80/80 [==============================] - ETA: 0s - loss: 2.5235 - accuracy: 0.56 - 0s 838us/sample - loss: 3.2464 - accuracy: 0.5000 - val_loss: 2.0827 - val_accuracy: 0.4500\n",
      "Epoch 4/10\n",
      "80/80 [==============================] - ETA: 0s - loss: 5.3064 - accuracy: 0.46 - 0s 184us/sample - loss: 4.6051 - accuracy: 0.4750 - val_loss: 1.9369 - val_accuracy: 0.4500\n",
      "Epoch 5/10\n",
      "80/80 [==============================] - ETA: 0s - loss: 3.2388 - accuracy: 0.50 - 0s 742us/sample - loss: 3.0764 - accuracy: 0.4250 - val_loss: 1.7941 - val_accuracy: 0.5000\n",
      "Epoch 6/10\n",
      "80/80 [==============================] - ETA: 0s - loss: 4.3280 - accuracy: 0.40 - 0s 897us/sample - loss: 3.4159 - accuracy: 0.4625 - val_loss: 1.6373 - val_accuracy: 0.5500\n",
      "Epoch 7/10\n",
      "80/80 [==============================] - ETA: 0s - loss: 3.3991 - accuracy: 0.34 - 0s 626us/sample - loss: 3.3930 - accuracy: 0.4375 - val_loss: 1.4657 - val_accuracy: 0.6500\n",
      "Epoch 8/10\n",
      "80/80 [==============================] - ETA: 0s - loss: 3.4686 - accuracy: 0.53 - 0s 277us/sample - loss: 3.0805 - accuracy: 0.5625 - val_loss: 1.3505 - val_accuracy: 0.6500\n",
      "Epoch 9/10\n",
      "80/80 [==============================] - ETA: 0s - loss: 4.9218 - accuracy: 0.37 - 0s 173us/sample - loss: 3.8049 - accuracy: 0.4750 - val_loss: 1.3128 - val_accuracy: 0.6500\n",
      "Epoch 10/10\n",
      "80/80 [==============================] - ETA: 0s - loss: 3.1972 - accuracy: 0.59 - 0s 162us/sample - loss: 3.3749 - accuracy: 0.5375 - val_loss: 1.2800 - val_accuracy: 0.6500\n",
      "WARNING:tensorflow:Falling back from v2 loop because of error: Failed to find data adapter that can handle input: <class 'pandas.core.frame.DataFrame'>, <class 'NoneType'>\n",
      "Train on 80 samples, validate on 20 samples\n",
      "Epoch 1/10\n",
      "80/80 [==============================] - ETA: 0s - loss: 2.9024 - accuracy: 0.46 - 0s 5ms/sample - loss: 2.4917 - accuracy: 0.5125 - val_loss: 2.2865 - val_accuracy: 0.6000\n",
      "Epoch 2/10\n",
      "80/80 [==============================] - ETA: 0s - loss: 2.2547 - accuracy: 0.62 - 0s 203us/sample - loss: 2.8716 - accuracy: 0.5125 - val_loss: 2.1453 - val_accuracy: 0.6000\n",
      "Epoch 3/10\n",
      "80/80 [==============================] - ETA: 0s - loss: 2.8381 - accuracy: 0.46 - 0s 197us/sample - loss: 2.9381 - accuracy: 0.4875 - val_loss: 2.0551 - val_accuracy: 0.6000\n",
      "Epoch 4/10\n",
      "80/80 [==============================] - ETA: 0s - loss: 3.3331 - accuracy: 0.50 - 0s 188us/sample - loss: 2.5661 - accuracy: 0.5500 - val_loss: 2.0030 - val_accuracy: 0.6000\n",
      "Epoch 5/10\n",
      "80/80 [==============================] - ETA: 0s - loss: 3.2015 - accuracy: 0.53 - 0s 146us/sample - loss: 2.6641 - accuracy: 0.5250 - val_loss: 1.9140 - val_accuracy: 0.6000\n",
      "Epoch 6/10\n",
      "80/80 [==============================] - ETA: 0s - loss: 3.6363 - accuracy: 0.40 - 0s 194us/sample - loss: 2.4972 - accuracy: 0.5750 - val_loss: 1.8508 - val_accuracy: 0.5500\n",
      "Epoch 7/10\n",
      "80/80 [==============================] - ETA: 0s - loss: 1.2588 - accuracy: 0.43 - 0s 162us/sample - loss: 1.9992 - accuracy: 0.4875 - val_loss: 1.7637 - val_accuracy: 0.5000\n",
      "Epoch 8/10\n",
      "80/80 [==============================] - ETA: 0s - loss: 1.4700 - accuracy: 0.71 - 0s 180us/sample - loss: 1.8576 - accuracy: 0.6000 - val_loss: 1.6993 - val_accuracy: 0.5000\n",
      "Epoch 9/10\n",
      "80/80 [==============================] - ETA: 0s - loss: 2.6177 - accuracy: 0.59 - 0s 139us/sample - loss: 2.3537 - accuracy: 0.5750 - val_loss: 1.6342 - val_accuracy: 0.4000\n",
      "Epoch 10/10\n",
      "80/80 [==============================] - ETA: 0s - loss: 2.4676 - accuracy: 0.43 - 0s 177us/sample - loss: 2.1659 - accuracy: 0.5250 - val_loss: 1.5777 - val_accuracy: 0.4000\n"
     ]
    },
    {
     "data": {
      "text/html": [
       "<span style=\"color:#4527A0\"><h1 style=\"font-size:18px\">Trial complete</h1></span>"
      ],
      "text/plain": [
       "<IPython.core.display.HTML object>"
      ]
     },
     "metadata": {},
     "output_type": "display_data"
    },
    {
     "data": {
      "text/html": [
       "<span style=\"color:#4527A0\"><h1 style=\"font-size:18px\">Trial summary</h1></span>"
      ],
      "text/plain": [
       "<IPython.core.display.HTML object>"
      ]
     },
     "metadata": {},
     "output_type": "display_data"
    },
    {
     "data": {
      "text/html": [
       "<span style=\"color:cyan\"> |-Trial ID: 9264209a993b464ebd1436094572d021</span>"
      ],
      "text/plain": [
       "<IPython.core.display.HTML object>"
      ]
     },
     "metadata": {},
     "output_type": "display_data"
    },
    {
     "data": {
      "text/html": [
       "<span style=\"color:cyan\"> |-Score: 0.625</span>"
      ],
      "text/plain": [
       "<IPython.core.display.HTML object>"
      ]
     },
     "metadata": {},
     "output_type": "display_data"
    },
    {
     "data": {
      "text/html": [
       "<span style=\"color:cyan\"> |-Best step: 0</span>"
      ],
      "text/plain": [
       "<IPython.core.display.HTML object>"
      ]
     },
     "metadata": {},
     "output_type": "display_data"
    },
    {
     "data": {
      "text/html": [
       "<span style=\"color:#7E57C2\"><h2 style=\"font-size:16px\">Hyperparameters:</h2></span>"
      ],
      "text/plain": [
       "<IPython.core.display.HTML object>"
      ]
     },
     "metadata": {},
     "output_type": "display_data"
    },
    {
     "data": {
      "text/html": [
       "<span style=\"color:cyan\"> |-activation: relu</span>"
      ],
      "text/plain": [
       "<IPython.core.display.HTML object>"
      ]
     },
     "metadata": {},
     "output_type": "display_data"
    },
    {
     "data": {
      "text/html": [
       "<span style=\"color:blue\"> |-drop_rate: 0.6</span>"
      ],
      "text/plain": [
       "<IPython.core.display.HTML object>"
      ]
     },
     "metadata": {},
     "output_type": "display_data"
    },
    {
     "data": {
      "text/html": [
       "<span style=\"color:cyan\"> |-optimizer: rmsprop</span>"
      ],
      "text/plain": [
       "<IPython.core.display.HTML object>"
      ]
     },
     "metadata": {},
     "output_type": "display_data"
    },
    {
     "data": {
      "text/html": [
       "<span style=\"color:blue\"> |-units: 24</span>"
      ],
      "text/plain": [
       "<IPython.core.display.HTML object>"
      ]
     },
     "metadata": {},
     "output_type": "display_data"
    },
    {
     "name": "stdout",
     "output_type": "stream",
     "text": [
      "WARNING:tensorflow:Falling back from v2 loop because of error: Failed to find data adapter that can handle input: <class 'pandas.core.frame.DataFrame'>, <class 'NoneType'>\n",
      "Train on 80 samples, validate on 20 samples\n",
      "Epoch 1/10\n",
      "80/80 [==============================] - ETA: 0s - loss: 3.5719 - accuracy: 0.40 - 0s 6ms/sample - loss: 3.1639 - accuracy: 0.5000 - val_loss: 2.4375 - val_accuracy: 0.6000\n",
      "Epoch 2/10\n",
      "80/80 [==============================] - ETA: 0s - loss: 3.3576 - accuracy: 0.53 - 0s 230us/sample - loss: 2.8451 - accuracy: 0.5875 - val_loss: 2.1960 - val_accuracy: 0.5000\n",
      "Epoch 3/10\n",
      "80/80 [==============================] - ETA: 0s - loss: 4.9694 - accuracy: 0.40 - 0s 188us/sample - loss: 3.6072 - accuracy: 0.4875 - val_loss: 1.9842 - val_accuracy: 0.5000\n",
      "Epoch 4/10\n",
      "80/80 [==============================] - ETA: 0s - loss: 3.2839 - accuracy: 0.46 - 0s 258us/sample - loss: 3.5202 - accuracy: 0.4875 - val_loss: 1.7777 - val_accuracy: 0.5000\n",
      "Epoch 5/10\n",
      "80/80 [==============================] - ETA: 0s - loss: 3.7678 - accuracy: 0.43 - 0s 213us/sample - loss: 2.7197 - accuracy: 0.5625 - val_loss: 1.5803 - val_accuracy: 0.3500\n",
      "Epoch 6/10\n",
      "80/80 [==============================] - ETA: 0s - loss: 2.5147 - accuracy: 0.43 - 0s 176us/sample - loss: 2.5481 - accuracy: 0.4750 - val_loss: 1.4228 - val_accuracy: 0.3500\n",
      "Epoch 7/10\n",
      "80/80 [==============================] - ETA: 0s - loss: 3.3369 - accuracy: 0.31 - 0s 164us/sample - loss: 3.2571 - accuracy: 0.4500 - val_loss: 1.3045 - val_accuracy: 0.4000\n",
      "Epoch 8/10\n",
      "80/80 [==============================] - ETA: 0s - loss: 2.6837 - accuracy: 0.59 - 0s 179us/sample - loss: 2.6550 - accuracy: 0.5250 - val_loss: 1.2383 - val_accuracy: 0.4000\n",
      "Epoch 9/10\n",
      "80/80 [==============================] - ETA: 0s - loss: 2.5033 - accuracy: 0.50 - 0s 170us/sample - loss: 2.2269 - accuracy: 0.5375 - val_loss: 1.1871 - val_accuracy: 0.4000\n",
      "Epoch 10/10\n",
      "80/80 [==============================] - ETA: 0s - loss: 2.9929 - accuracy: 0.40 - 0s 182us/sample - loss: 2.6507 - accuracy: 0.5125 - val_loss: 1.1522 - val_accuracy: 0.4000\n",
      "WARNING:tensorflow:Falling back from v2 loop because of error: Failed to find data adapter that can handle input: <class 'pandas.core.frame.DataFrame'>, <class 'NoneType'>\n",
      "Train on 80 samples, validate on 20 samples\n",
      "Epoch 1/10\n",
      "80/80 [==============================] - ETA: 0s - loss: 3.3598 - accuracy: 0.46 - 0s 5ms/sample - loss: 2.5255 - accuracy: 0.5375 - val_loss: 1.6347 - val_accuracy: 0.5500\n",
      "Epoch 2/10\n",
      "80/80 [==============================] - ETA: 0s - loss: 2.3686 - accuracy: 0.56 - 0s 275us/sample - loss: 2.1110 - accuracy: 0.5625 - val_loss: 1.6073 - val_accuracy: 0.5500\n",
      "Epoch 3/10\n",
      "80/80 [==============================] - ETA: 0s - loss: 3.6685 - accuracy: 0.50 - 0s 211us/sample - loss: 3.6115 - accuracy: 0.5250 - val_loss: 1.5131 - val_accuracy: 0.5500\n",
      "Epoch 4/10\n",
      "80/80 [==============================] - ETA: 0s - loss: 3.4487 - accuracy: 0.37 - 0s 195us/sample - loss: 2.7884 - accuracy: 0.4875 - val_loss: 1.4004 - val_accuracy: 0.5500\n",
      "Epoch 5/10\n",
      "80/80 [==============================] - ETA: 0s - loss: 2.6172 - accuracy: 0.46 - 0s 229us/sample - loss: 2.1313 - accuracy: 0.5875 - val_loss: 1.3081 - val_accuracy: 0.5000\n",
      "Epoch 6/10\n",
      "80/80 [==============================] - ETA: 0s - loss: 2.8551 - accuracy: 0.56 - 0s 213us/sample - loss: 2.3239 - accuracy: 0.5375 - val_loss: 1.2114 - val_accuracy: 0.5500\n",
      "Epoch 7/10\n",
      "80/80 [==============================] - ETA: 0s - loss: 2.9911 - accuracy: 0.37 - 0s 166us/sample - loss: 2.1336 - accuracy: 0.5250 - val_loss: 1.1568 - val_accuracy: 0.5500\n",
      "Epoch 8/10\n",
      "80/80 [==============================] - ETA: 0s - loss: 2.4302 - accuracy: 0.56 - 0s 175us/sample - loss: 1.8629 - accuracy: 0.5500 - val_loss: 1.1163 - val_accuracy: 0.5000\n",
      "Epoch 9/10\n",
      "80/80 [==============================] - ETA: 0s - loss: 2.1237 - accuracy: 0.43 - 0s 151us/sample - loss: 2.6445 - accuracy: 0.4500 - val_loss: 1.0913 - val_accuracy: 0.5500\n",
      "Epoch 10/10\n",
      "80/80 [==============================] - ETA: 0s - loss: 1.3681 - accuracy: 0.59 - 0s 149us/sample - loss: 2.0857 - accuracy: 0.5500 - val_loss: 1.0599 - val_accuracy: 0.5500\n"
     ]
    },
    {
     "data": {
      "text/html": [
       "<span style=\"color:#4527A0\"><h1 style=\"font-size:18px\">Trial complete</h1></span>"
      ],
      "text/plain": [
       "<IPython.core.display.HTML object>"
      ]
     },
     "metadata": {},
     "output_type": "display_data"
    },
    {
     "data": {
      "text/html": [
       "<span style=\"color:#4527A0\"><h1 style=\"font-size:18px\">Trial summary</h1></span>"
      ],
      "text/plain": [
       "<IPython.core.display.HTML object>"
      ]
     },
     "metadata": {},
     "output_type": "display_data"
    },
    {
     "data": {
      "text/html": [
       "<span style=\"color:cyan\"> |-Trial ID: 88a9c450a779c18cdfc8201fa5e067ca</span>"
      ],
      "text/plain": [
       "<IPython.core.display.HTML object>"
      ]
     },
     "metadata": {},
     "output_type": "display_data"
    },
    {
     "data": {
      "text/html": [
       "<span style=\"color:cyan\"> |-Score: 0.5750000476837158</span>"
      ],
      "text/plain": [
       "<IPython.core.display.HTML object>"
      ]
     },
     "metadata": {},
     "output_type": "display_data"
    },
    {
     "data": {
      "text/html": [
       "<span style=\"color:cyan\"> |-Best step: 0</span>"
      ],
      "text/plain": [
       "<IPython.core.display.HTML object>"
      ]
     },
     "metadata": {},
     "output_type": "display_data"
    },
    {
     "data": {
      "text/html": [
       "<span style=\"color:#7E57C2\"><h2 style=\"font-size:16px\">Hyperparameters:</h2></span>"
      ],
      "text/plain": [
       "<IPython.core.display.HTML object>"
      ]
     },
     "metadata": {},
     "output_type": "display_data"
    },
    {
     "data": {
      "text/html": [
       "<span style=\"color:cyan\"> |-activation: linear</span>"
      ],
      "text/plain": [
       "<IPython.core.display.HTML object>"
      ]
     },
     "metadata": {},
     "output_type": "display_data"
    },
    {
     "data": {
      "text/html": [
       "<span style=\"color:blue\"> |-drop_rate: 0.8</span>"
      ],
      "text/plain": [
       "<IPython.core.display.HTML object>"
      ]
     },
     "metadata": {},
     "output_type": "display_data"
    },
    {
     "data": {
      "text/html": [
       "<span style=\"color:cyan\"> |-optimizer: adam</span>"
      ],
      "text/plain": [
       "<IPython.core.display.HTML object>"
      ]
     },
     "metadata": {},
     "output_type": "display_data"
    },
    {
     "data": {
      "text/html": [
       "<span style=\"color:blue\"> |-units: 120</span>"
      ],
      "text/plain": [
       "<IPython.core.display.HTML object>"
      ]
     },
     "metadata": {},
     "output_type": "display_data"
    },
    {
     "name": "stdout",
     "output_type": "stream",
     "text": [
      "WARNING:tensorflow:Falling back from v2 loop because of error: Failed to find data adapter that can handle input: <class 'pandas.core.frame.DataFrame'>, <class 'NoneType'>\n",
      "Train on 80 samples, validate on 20 samples\n",
      "Epoch 1/10\n",
      "80/80 [==============================] - ETA: 0s - loss: 4.0873 - accuracy: 0.46 - 0s 5ms/sample - loss: 3.1196 - accuracy: 0.4625 - val_loss: 1.2905 - val_accuracy: 0.5500\n",
      "Epoch 2/10\n",
      "80/80 [==============================] - ETA: 0s - loss: 1.8081 - accuracy: 0.46 - 0s 1ms/sample - loss: 1.9582 - accuracy: 0.4625 - val_loss: 1.3486 - val_accuracy: 0.6000\n",
      "Epoch 3/10\n",
      "80/80 [==============================] - ETA: 0s - loss: 2.7345 - accuracy: 0.31 - 0s 365us/sample - loss: 2.2034 - accuracy: 0.4125 - val_loss: 0.8666 - val_accuracy: 0.4500\n",
      "Epoch 4/10\n",
      "80/80 [==============================] - ETA: 0s - loss: 1.3811 - accuracy: 0.50 - 0s 144us/sample - loss: 1.2108 - accuracy: 0.5250 - val_loss: 1.0487 - val_accuracy: 0.5500\n",
      "Epoch 5/10\n",
      "80/80 [==============================] - ETA: 0s - loss: 1.0913 - accuracy: 0.53 - 0s 167us/sample - loss: 1.3121 - accuracy: 0.5250 - val_loss: 0.8577 - val_accuracy: 0.2500\n",
      "Epoch 6/10\n",
      "80/80 [==============================] - ETA: 0s - loss: 1.7856 - accuracy: 0.34 - 0s 177us/sample - loss: 1.9286 - accuracy: 0.4250 - val_loss: 0.8080 - val_accuracy: 0.3000\n",
      "Epoch 7/10\n",
      "80/80 [==============================] - ETA: 0s - loss: 1.4922 - accuracy: 0.43 - 0s 163us/sample - loss: 1.5498 - accuracy: 0.4750 - val_loss: 0.7844 - val_accuracy: 0.4500\n",
      "Epoch 8/10\n",
      "80/80 [==============================] - ETA: 0s - loss: 1.3649 - accuracy: 0.46 - 0s 146us/sample - loss: 1.3603 - accuracy: 0.4750 - val_loss: 0.9120 - val_accuracy: 0.5500\n",
      "Epoch 9/10\n",
      "80/80 [==============================] - ETA: 0s - loss: 0.8086 - accuracy: 0.62 - 0s 161us/sample - loss: 1.0794 - accuracy: 0.5250 - val_loss: 0.8856 - val_accuracy: 0.5500\n",
      "Epoch 10/10\n",
      "80/80 [==============================] - ETA: 0s - loss: 1.3128 - accuracy: 0.59 - 0s 149us/sample - loss: 1.4006 - accuracy: 0.4625 - val_loss: 0.9822 - val_accuracy: 0.6000\n",
      "WARNING:tensorflow:Falling back from v2 loop because of error: Failed to find data adapter that can handle input: <class 'pandas.core.frame.DataFrame'>, <class 'NoneType'>\n",
      "Train on 80 samples, validate on 20 samples\n",
      "Epoch 1/10\n",
      "80/80 [==============================] - ETA: 0s - loss: 1.5390 - accuracy: 0.56 - 0s 5ms/sample - loss: 1.8650 - accuracy: 0.6375 - val_loss: 0.7965 - val_accuracy: 0.6000\n",
      "Epoch 2/10\n",
      "80/80 [==============================] - ETA: 0s - loss: 2.3893 - accuracy: 0.46 - 0s 224us/sample - loss: 1.7998 - accuracy: 0.5375 - val_loss: 1.0664 - val_accuracy: 0.5500\n",
      "Epoch 3/10\n",
      "80/80 [==============================] - ETA: 0s - loss: 1.4175 - accuracy: 0.53 - 0s 205us/sample - loss: 1.8903 - accuracy: 0.5375 - val_loss: 0.8040 - val_accuracy: 0.6000\n",
      "Epoch 4/10\n",
      "80/80 [==============================] - ETA: 0s - loss: 1.5522 - accuracy: 0.59 - 0s 151us/sample - loss: 1.7529 - accuracy: 0.5500 - val_loss: 0.7316 - val_accuracy: 0.6000\n",
      "Epoch 5/10\n",
      "80/80 [==============================] - ETA: 0s - loss: 2.0481 - accuracy: 0.40 - 0s 142us/sample - loss: 1.6688 - accuracy: 0.5000 - val_loss: 1.1559 - val_accuracy: 0.6000\n",
      "Epoch 6/10\n",
      "80/80 [==============================] - ETA: 0s - loss: 1.7466 - accuracy: 0.50 - 0s 606us/sample - loss: 1.4082 - accuracy: 0.6625 - val_loss: 0.6334 - val_accuracy: 0.6500\n",
      "Epoch 7/10\n",
      "80/80 [==============================] - ETA: 0s - loss: 1.8752 - accuracy: 0.40 - 0s 367us/sample - loss: 1.4488 - accuracy: 0.5125 - val_loss: 0.7121 - val_accuracy: 0.6000\n",
      "Epoch 8/10\n",
      "80/80 [==============================] - ETA: 0s - loss: 1.3142 - accuracy: 0.59 - 0s 174us/sample - loss: 1.4883 - accuracy: 0.5625 - val_loss: 0.8972 - val_accuracy: 0.6000\n",
      "Epoch 9/10\n",
      "80/80 [==============================] - ETA: 0s - loss: 1.5636 - accuracy: 0.65 - 0s 125us/sample - loss: 1.6950 - accuracy: 0.5250 - val_loss: 1.1447 - val_accuracy: 0.6000\n",
      "Epoch 10/10\n",
      "80/80 [==============================] - ETA: 0s - loss: 1.5186 - accuracy: 0.56 - 0s 170us/sample - loss: 1.5988 - accuracy: 0.4875 - val_loss: 1.4071 - val_accuracy: 0.4000\n"
     ]
    },
    {
     "data": {
      "text/html": [
       "<span style=\"color:#4527A0\"><h1 style=\"font-size:18px\">Trial complete</h1></span>"
      ],
      "text/plain": [
       "<IPython.core.display.HTML object>"
      ]
     },
     "metadata": {},
     "output_type": "display_data"
    },
    {
     "data": {
      "text/html": [
       "<span style=\"color:#4527A0\"><h1 style=\"font-size:18px\">Trial summary</h1></span>"
      ],
      "text/plain": [
       "<IPython.core.display.HTML object>"
      ]
     },
     "metadata": {},
     "output_type": "display_data"
    },
    {
     "data": {
      "text/html": [
       "<span style=\"color:cyan\"> |-Trial ID: c83c58daff20582c4371d9f8660bb60c</span>"
      ],
      "text/plain": [
       "<IPython.core.display.HTML object>"
      ]
     },
     "metadata": {},
     "output_type": "display_data"
    },
    {
     "data": {
      "text/html": [
       "<span style=\"color:cyan\"> |-Score: 0.625</span>"
      ],
      "text/plain": [
       "<IPython.core.display.HTML object>"
      ]
     },
     "metadata": {},
     "output_type": "display_data"
    },
    {
     "data": {
      "text/html": [
       "<span style=\"color:cyan\"> |-Best step: 0</span>"
      ],
      "text/plain": [
       "<IPython.core.display.HTML object>"
      ]
     },
     "metadata": {},
     "output_type": "display_data"
    },
    {
     "data": {
      "text/html": [
       "<span style=\"color:#7E57C2\"><h2 style=\"font-size:16px\">Hyperparameters:</h2></span>"
      ],
      "text/plain": [
       "<IPython.core.display.HTML object>"
      ]
     },
     "metadata": {},
     "output_type": "display_data"
    },
    {
     "data": {
      "text/html": [
       "<span style=\"color:cyan\"> |-activation: linear</span>"
      ],
      "text/plain": [
       "<IPython.core.display.HTML object>"
      ]
     },
     "metadata": {},
     "output_type": "display_data"
    },
    {
     "data": {
      "text/html": [
       "<span style=\"color:blue\"> |-drop_rate: 0.6</span>"
      ],
      "text/plain": [
       "<IPython.core.display.HTML object>"
      ]
     },
     "metadata": {},
     "output_type": "display_data"
    },
    {
     "data": {
      "text/html": [
       "<span style=\"color:cyan\"> |-optimizer: sgd</span>"
      ],
      "text/plain": [
       "<IPython.core.display.HTML object>"
      ]
     },
     "metadata": {},
     "output_type": "display_data"
    },
    {
     "data": {
      "text/html": [
       "<span style=\"color:blue\"> |-units: 104</span>"
      ],
      "text/plain": [
       "<IPython.core.display.HTML object>"
      ]
     },
     "metadata": {},
     "output_type": "display_data"
    },
    {
     "name": "stdout",
     "output_type": "stream",
     "text": [
      "WARNING:tensorflow:Falling back from v2 loop because of error: Failed to find data adapter that can handle input: <class 'pandas.core.frame.DataFrame'>, <class 'NoneType'>\n",
      "Train on 80 samples, validate on 20 samples\n",
      "Epoch 1/10\n",
      "80/80 [==============================] - ETA: 0s - loss: 0.6833 - accuracy: 0.62 - 0s 5ms/sample - loss: 0.6910 - accuracy: 0.5500 - val_loss: 0.6791 - val_accuracy: 0.6000\n",
      "Epoch 2/10\n",
      "80/80 [==============================] - ETA: 0s - loss: 0.6812 - accuracy: 0.65 - 0s 304us/sample - loss: 0.6884 - accuracy: 0.5625 - val_loss: 0.6789 - val_accuracy: 0.5500\n",
      "Epoch 3/10\n",
      "80/80 [==============================] - ETA: 0s - loss: 0.6834 - accuracy: 0.53 - 0s 155us/sample - loss: 0.6873 - accuracy: 0.5750 - val_loss: 0.6783 - val_accuracy: 0.5500\n",
      "Epoch 4/10\n",
      "80/80 [==============================] - ETA: 0s - loss: 0.6913 - accuracy: 0.53 - 0s 195us/sample - loss: 0.6861 - accuracy: 0.6250 - val_loss: 0.6780 - val_accuracy: 0.6000\n",
      "Epoch 5/10\n",
      "80/80 [==============================] - ETA: 0s - loss: 0.6946 - accuracy: 0.50 - 0s 178us/sample - loss: 0.6852 - accuracy: 0.6250 - val_loss: 0.6775 - val_accuracy: 0.6000\n",
      "Epoch 6/10\n",
      "80/80 [==============================] - ETA: 0s - loss: 0.6975 - accuracy: 0.46 - 0s 825us/sample - loss: 0.6842 - accuracy: 0.6000 - val_loss: 0.6773 - val_accuracy: 0.6500\n",
      "Epoch 7/10\n",
      "80/80 [==============================] - ETA: 0s - loss: 0.6784 - accuracy: 0.62 - 0s 170us/sample - loss: 0.6834 - accuracy: 0.6000 - val_loss: 0.6772 - val_accuracy: 0.6500\n",
      "Epoch 8/10\n",
      "80/80 [==============================] - ETA: 0s - loss: 0.6889 - accuracy: 0.56 - 0s 191us/sample - loss: 0.6824 - accuracy: 0.6000 - val_loss: 0.6768 - val_accuracy: 0.6500\n",
      "Epoch 9/10\n",
      "80/80 [==============================] - ETA: 0s - loss: 0.6893 - accuracy: 0.56 - 0s 191us/sample - loss: 0.6818 - accuracy: 0.6000 - val_loss: 0.6767 - val_accuracy: 0.6500\n",
      "Epoch 10/10\n",
      "80/80 [==============================] - ETA: 0s - loss: 0.6678 - accuracy: 0.71 - 0s 218us/sample - loss: 0.6812 - accuracy: 0.6125 - val_loss: 0.6765 - val_accuracy: 0.6500\n",
      "WARNING:tensorflow:Falling back from v2 loop because of error: Failed to find data adapter that can handle input: <class 'pandas.core.frame.DataFrame'>, <class 'NoneType'>\n",
      "Train on 80 samples, validate on 20 samples\n",
      "Epoch 1/10\n",
      "80/80 [==============================] - ETA: 0s - loss: 0.6941 - accuracy: 0.43 - 0s 4ms/sample - loss: 0.6960 - accuracy: 0.4375 - val_loss: 0.6925 - val_accuracy: 0.5500\n",
      "Epoch 2/10\n",
      "80/80 [==============================] - ETA: 0s - loss: 0.6905 - accuracy: 0.65 - 0s 396us/sample - loss: 0.6939 - accuracy: 0.5125 - val_loss: 0.6917 - val_accuracy: 0.6000\n",
      "Epoch 3/10\n",
      "80/80 [==============================] - ETA: 0s - loss: 0.6945 - accuracy: 0.50 - 0s 257us/sample - loss: 0.6926 - accuracy: 0.5250 - val_loss: 0.6909 - val_accuracy: 0.6000\n",
      "Epoch 4/10\n",
      "80/80 [==============================] - ETA: 0s - loss: 0.6895 - accuracy: 0.53 - 0s 137us/sample - loss: 0.6914 - accuracy: 0.5625 - val_loss: 0.6906 - val_accuracy: 0.5500\n",
      "Epoch 5/10\n",
      "80/80 [==============================] - ETA: 0s - loss: 0.6925 - accuracy: 0.56 - 0s 160us/sample - loss: 0.6906 - accuracy: 0.5625 - val_loss: 0.6902 - val_accuracy: 0.6000\n",
      "Epoch 6/10\n",
      "80/80 [==============================] - ETA: 0s - loss: 0.6871 - accuracy: 0.65 - 0s 134us/sample - loss: 0.6897 - accuracy: 0.5750 - val_loss: 0.6896 - val_accuracy: 0.6000\n",
      "Epoch 7/10\n",
      "80/80 [==============================] - ETA: 0s - loss: 0.6906 - accuracy: 0.62 - 0s 162us/sample - loss: 0.6889 - accuracy: 0.5875 - val_loss: 0.6895 - val_accuracy: 0.6000\n",
      "Epoch 8/10\n",
      "80/80 [==============================] - ETA: 0s - loss: 0.6857 - accuracy: 0.59 - 0s 145us/sample - loss: 0.6882 - accuracy: 0.5875 - val_loss: 0.6892 - val_accuracy: 0.6000\n",
      "Epoch 9/10\n",
      "80/80 [==============================] - ETA: 0s - loss: 0.6830 - accuracy: 0.65 - 0s 152us/sample - loss: 0.6872 - accuracy: 0.6000 - val_loss: 0.6890 - val_accuracy: 0.6000\n",
      "Epoch 10/10\n",
      "80/80 [==============================] - ETA: 0s - loss: 0.6876 - accuracy: 0.59 - 0s 192us/sample - loss: 0.6865 - accuracy: 0.6000 - val_loss: 0.6886 - val_accuracy: 0.6000\n"
     ]
    },
    {
     "data": {
      "text/html": [
       "<span style=\"color:#4527A0\"><h1 style=\"font-size:18px\">Trial complete</h1></span>"
      ],
      "text/plain": [
       "<IPython.core.display.HTML object>"
      ]
     },
     "metadata": {},
     "output_type": "display_data"
    },
    {
     "data": {
      "text/html": [
       "<span style=\"color:#4527A0\"><h1 style=\"font-size:18px\">Trial summary</h1></span>"
      ],
      "text/plain": [
       "<IPython.core.display.HTML object>"
      ]
     },
     "metadata": {},
     "output_type": "display_data"
    },
    {
     "data": {
      "text/html": [
       "<span style=\"color:cyan\"> |-Trial ID: fc3b37bb513dee03970ff9f4f0fe1441</span>"
      ],
      "text/plain": [
       "<IPython.core.display.HTML object>"
      ]
     },
     "metadata": {},
     "output_type": "display_data"
    },
    {
     "data": {
      "text/html": [
       "<span style=\"color:cyan\"> |-Score: 0.625</span>"
      ],
      "text/plain": [
       "<IPython.core.display.HTML object>"
      ]
     },
     "metadata": {},
     "output_type": "display_data"
    },
    {
     "data": {
      "text/html": [
       "<span style=\"color:cyan\"> |-Best step: 0</span>"
      ],
      "text/plain": [
       "<IPython.core.display.HTML object>"
      ]
     },
     "metadata": {},
     "output_type": "display_data"
    },
    {
     "data": {
      "text/html": [
       "<span style=\"color:#7E57C2\"><h2 style=\"font-size:16px\">Hyperparameters:</h2></span>"
      ],
      "text/plain": [
       "<IPython.core.display.HTML object>"
      ]
     },
     "metadata": {},
     "output_type": "display_data"
    },
    {
     "data": {
      "text/html": [
       "<span style=\"color:cyan\"> |-activation: softmax</span>"
      ],
      "text/plain": [
       "<IPython.core.display.HTML object>"
      ]
     },
     "metadata": {},
     "output_type": "display_data"
    },
    {
     "data": {
      "text/html": [
       "<span style=\"color:blue\"> |-drop_rate: 0.0</span>"
      ],
      "text/plain": [
       "<IPython.core.display.HTML object>"
      ]
     },
     "metadata": {},
     "output_type": "display_data"
    },
    {
     "data": {
      "text/html": [
       "<span style=\"color:cyan\"> |-optimizer: rmsprop</span>"
      ],
      "text/plain": [
       "<IPython.core.display.HTML object>"
      ]
     },
     "metadata": {},
     "output_type": "display_data"
    },
    {
     "data": {
      "text/html": [
       "<span style=\"color:blue\"> |-units: 72</span>"
      ],
      "text/plain": [
       "<IPython.core.display.HTML object>"
      ]
     },
     "metadata": {},
     "output_type": "display_data"
    },
    {
     "name": "stdout",
     "output_type": "stream",
     "text": [
      "WARNING:tensorflow:Falling back from v2 loop because of error: Failed to find data adapter that can handle input: <class 'pandas.core.frame.DataFrame'>, <class 'NoneType'>\n",
      "Train on 80 samples, validate on 20 samples\n",
      "Epoch 1/10\n",
      "80/80 [==============================] - ETA: 0s - loss: 0.6881 - accuracy: 0.53 - 0s 6ms/sample - loss: 0.6914 - accuracy: 0.5625 - val_loss: 0.6952 - val_accuracy: 0.5000\n",
      "Epoch 2/10\n",
      "80/80 [==============================] - ETA: 0s - loss: 0.6791 - accuracy: 0.56 - 0s 292us/sample - loss: 0.6888 - accuracy: 0.5375 - val_loss: 0.6945 - val_accuracy: 0.5000\n",
      "Epoch 3/10\n",
      "80/80 [==============================] - ETA: 0s - loss: 0.6911 - accuracy: 0.53 - 0s 211us/sample - loss: 0.6898 - accuracy: 0.5750 - val_loss: 0.6941 - val_accuracy: 0.5000\n",
      "Epoch 4/10\n",
      "80/80 [==============================] - ETA: 0s - loss: 0.6984 - accuracy: 0.53 - 0s 802us/sample - loss: 0.6873 - accuracy: 0.6250 - val_loss: 0.6933 - val_accuracy: 0.6000\n",
      "Epoch 5/10\n",
      "80/80 [==============================] - ETA: 0s - loss: 0.6818 - accuracy: 0.65 - 0s 185us/sample - loss: 0.6899 - accuracy: 0.5750 - val_loss: 0.6927 - val_accuracy: 0.6000\n",
      "Epoch 6/10\n",
      "80/80 [==============================] - ETA: 0s - loss: 0.6878 - accuracy: 0.62 - 0s 191us/sample - loss: 0.6874 - accuracy: 0.5875 - val_loss: 0.6923 - val_accuracy: 0.6000\n",
      "Epoch 7/10\n",
      "80/80 [==============================] - ETA: 0s - loss: 0.6777 - accuracy: 0.71 - 0s 366us/sample - loss: 0.6892 - accuracy: 0.6375 - val_loss: 0.6916 - val_accuracy: 0.6000\n",
      "Epoch 8/10\n",
      "80/80 [==============================] - ETA: 0s - loss: 0.6875 - accuracy: 0.62 - 0s 246us/sample - loss: 0.6853 - accuracy: 0.5875 - val_loss: 0.6911 - val_accuracy: 0.6000\n",
      "Epoch 9/10\n",
      "80/80 [==============================] - ETA: 0s - loss: 0.6923 - accuracy: 0.53 - 0s 195us/sample - loss: 0.6930 - accuracy: 0.5375 - val_loss: 0.6907 - val_accuracy: 0.6000\n",
      "Epoch 10/10\n",
      "80/80 [==============================] - ETA: 0s - loss: 0.6992 - accuracy: 0.53 - 0s 198us/sample - loss: 0.6874 - accuracy: 0.6000 - val_loss: 0.6901 - val_accuracy: 0.6000\n",
      "WARNING:tensorflow:Falling back from v2 loop because of error: Failed to find data adapter that can handle input: <class 'pandas.core.frame.DataFrame'>, <class 'NoneType'>\n",
      "Train on 80 samples, validate on 20 samples\n",
      "Epoch 1/10\n",
      "80/80 [==============================] - ETA: 0s - loss: 0.6923 - accuracy: 0.50 - 0s 6ms/sample - loss: 0.6916 - accuracy: 0.5500 - val_loss: 0.6884 - val_accuracy: 0.5000\n",
      "Epoch 2/10\n",
      "80/80 [==============================] - ETA: 0s - loss: 0.6874 - accuracy: 0.53 - 0s 396us/sample - loss: 0.6879 - accuracy: 0.5625 - val_loss: 0.6871 - val_accuracy: 0.6000\n",
      "Epoch 3/10\n",
      "80/80 [==============================] - ETA: 0s - loss: 0.6930 - accuracy: 0.50 - 0s 269us/sample - loss: 0.6892 - accuracy: 0.5500 - val_loss: 0.6864 - val_accuracy: 0.6000\n",
      "Epoch 4/10\n",
      "80/80 [==============================] - ETA: 0s - loss: 0.6705 - accuracy: 0.78 - 0s 221us/sample - loss: 0.6843 - accuracy: 0.6375 - val_loss: 0.6861 - val_accuracy: 0.6000\n",
      "Epoch 5/10\n",
      "80/80 [==============================] - ETA: 0s - loss: 0.6884 - accuracy: 0.59 - 0s 151us/sample - loss: 0.6830 - accuracy: 0.6125 - val_loss: 0.6858 - val_accuracy: 0.6000\n",
      "Epoch 6/10\n",
      "80/80 [==============================] - ETA: 0s - loss: 0.6847 - accuracy: 0.59 - 0s 218us/sample - loss: 0.6871 - accuracy: 0.5500 - val_loss: 0.6854 - val_accuracy: 0.6000\n",
      "Epoch 7/10\n",
      "80/80 [==============================] - ETA: 0s - loss: 0.6754 - accuracy: 0.65 - 0s 242us/sample - loss: 0.6807 - accuracy: 0.5875 - val_loss: 0.6850 - val_accuracy: 0.6000\n",
      "Epoch 8/10\n",
      "80/80 [==============================] - ETA: 0s - loss: 0.6864 - accuracy: 0.59 - 0s 175us/sample - loss: 0.6841 - accuracy: 0.6125 - val_loss: 0.6846 - val_accuracy: 0.6000\n",
      "Epoch 9/10\n",
      "80/80 [==============================] - ETA: 0s - loss: 0.6880 - accuracy: 0.59 - 0s 330us/sample - loss: 0.6842 - accuracy: 0.5875 - val_loss: 0.6841 - val_accuracy: 0.6000\n",
      "Epoch 10/10\n",
      "80/80 [==============================] - ETA: 0s - loss: 0.6867 - accuracy: 0.56 - 0s 185us/sample - loss: 0.6780 - accuracy: 0.6000 - val_loss: 0.6838 - val_accuracy: 0.6000\n"
     ]
    },
    {
     "data": {
      "text/html": [
       "<span style=\"color:#4527A0\"><h1 style=\"font-size:18px\">Trial complete</h1></span>"
      ],
      "text/plain": [
       "<IPython.core.display.HTML object>"
      ]
     },
     "metadata": {},
     "output_type": "display_data"
    },
    {
     "data": {
      "text/html": [
       "<span style=\"color:#4527A0\"><h1 style=\"font-size:18px\">Trial summary</h1></span>"
      ],
      "text/plain": [
       "<IPython.core.display.HTML object>"
      ]
     },
     "metadata": {},
     "output_type": "display_data"
    },
    {
     "data": {
      "text/html": [
       "<span style=\"color:cyan\"> |-Trial ID: 63ef196d10d58404c914ede09e24635c</span>"
      ],
      "text/plain": [
       "<IPython.core.display.HTML object>"
      ]
     },
     "metadata": {},
     "output_type": "display_data"
    },
    {
     "data": {
      "text/html": [
       "<span style=\"color:cyan\"> |-Score: 0.6000000238418579</span>"
      ],
      "text/plain": [
       "<IPython.core.display.HTML object>"
      ]
     },
     "metadata": {},
     "output_type": "display_data"
    },
    {
     "data": {
      "text/html": [
       "<span style=\"color:cyan\"> |-Best step: 0</span>"
      ],
      "text/plain": [
       "<IPython.core.display.HTML object>"
      ]
     },
     "metadata": {},
     "output_type": "display_data"
    },
    {
     "data": {
      "text/html": [
       "<span style=\"color:#7E57C2\"><h2 style=\"font-size:16px\">Hyperparameters:</h2></span>"
      ],
      "text/plain": [
       "<IPython.core.display.HTML object>"
      ]
     },
     "metadata": {},
     "output_type": "display_data"
    },
    {
     "data": {
      "text/html": [
       "<span style=\"color:cyan\"> |-activation: softmax</span>"
      ],
      "text/plain": [
       "<IPython.core.display.HTML object>"
      ]
     },
     "metadata": {},
     "output_type": "display_data"
    },
    {
     "data": {
      "text/html": [
       "<span style=\"color:blue\"> |-drop_rate: 0.3</span>"
      ],
      "text/plain": [
       "<IPython.core.display.HTML object>"
      ]
     },
     "metadata": {},
     "output_type": "display_data"
    },
    {
     "data": {
      "text/html": [
       "<span style=\"color:cyan\"> |-optimizer: rmsprop</span>"
      ],
      "text/plain": [
       "<IPython.core.display.HTML object>"
      ]
     },
     "metadata": {},
     "output_type": "display_data"
    },
    {
     "data": {
      "text/html": [
       "<span style=\"color:blue\"> |-units: 72</span>"
      ],
      "text/plain": [
       "<IPython.core.display.HTML object>"
      ]
     },
     "metadata": {},
     "output_type": "display_data"
    },
    {
     "name": "stdout",
     "output_type": "stream",
     "text": [
      "WARNING:tensorflow:Falling back from v2 loop because of error: Failed to find data adapter that can handle input: <class 'pandas.core.frame.DataFrame'>, <class 'NoneType'>\n",
      "Train on 80 samples, validate on 20 samples\n",
      "Epoch 1/10\n",
      "80/80 [==============================] - ETA: 0s - loss: 1.0017 - accuracy: 0.68 - 0s 6ms/sample - loss: 1.0914 - accuracy: 0.6125 - val_loss: 0.7715 - val_accuracy: 0.4500\n",
      "Epoch 2/10\n",
      "80/80 [==============================] - ETA: 0s - loss: 0.6667 - accuracy: 0.62 - 0s 1ms/sample - loss: 0.7814 - accuracy: 0.6125 - val_loss: 0.6998 - val_accuracy: 0.5000\n",
      "Epoch 3/10\n",
      "80/80 [==============================] - ETA: 0s - loss: 0.8382 - accuracy: 0.71 - 0s 1ms/sample - loss: 0.8117 - accuracy: 0.5875 - val_loss: 0.6814 - val_accuracy: 0.5500\n",
      "Epoch 4/10\n",
      "80/80 [==============================] - ETA: 0s - loss: 0.8891 - accuracy: 0.53 - 0s 297us/sample - loss: 0.7749 - accuracy: 0.5750 - val_loss: 0.6649 - val_accuracy: 0.5500\n",
      "Epoch 5/10\n",
      "80/80 [==============================] - ETA: 0s - loss: 0.7749 - accuracy: 0.50 - 0s 594us/sample - loss: 0.8085 - accuracy: 0.5125 - val_loss: 0.6502 - val_accuracy: 0.6000\n",
      "Epoch 6/10\n",
      "80/80 [==============================] - ETA: 0s - loss: 0.6574 - accuracy: 0.59 - 0s 123us/sample - loss: 0.7351 - accuracy: 0.5875 - val_loss: 0.6366 - val_accuracy: 0.5500\n",
      "Epoch 7/10\n",
      "80/80 [==============================] - ETA: 0s - loss: 0.8755 - accuracy: 0.46 - 0s 187us/sample - loss: 0.8112 - accuracy: 0.5125 - val_loss: 0.6427 - val_accuracy: 0.6000\n",
      "Epoch 8/10\n",
      "80/80 [==============================] - ETA: 0s - loss: 0.7993 - accuracy: 0.50 - 0s 168us/sample - loss: 0.8386 - accuracy: 0.5000 - val_loss: 0.6337 - val_accuracy: 0.6000\n",
      "Epoch 9/10\n",
      "80/80 [==============================] - ETA: 0s - loss: 0.7836 - accuracy: 0.56 - 0s 786us/sample - loss: 0.7370 - accuracy: 0.5500 - val_loss: 0.6276 - val_accuracy: 0.6500\n",
      "Epoch 10/10\n",
      "80/80 [==============================] - ETA: 0s - loss: 0.7511 - accuracy: 0.59 - 0s 272us/sample - loss: 0.7438 - accuracy: 0.6125 - val_loss: 0.6188 - val_accuracy: 0.6000\n",
      "WARNING:tensorflow:Falling back from v2 loop because of error: Failed to find data adapter that can handle input: <class 'pandas.core.frame.DataFrame'>, <class 'NoneType'>\n",
      "Train on 80 samples, validate on 20 samples\n",
      "Epoch 1/10\n",
      "80/80 [==============================] - ETA: 0s - loss: 0.5843 - accuracy: 0.65 - 0s 5ms/sample - loss: 0.8689 - accuracy: 0.5000 - val_loss: 0.7178 - val_accuracy: 0.5500\n",
      "Epoch 2/10\n",
      "80/80 [==============================] - ETA: 0s - loss: 0.7694 - accuracy: 0.59 - 0s 480us/sample - loss: 0.7062 - accuracy: 0.5750 - val_loss: 0.6814 - val_accuracy: 0.6500\n",
      "Epoch 3/10\n",
      "80/80 [==============================] - ETA: 0s - loss: 0.5748 - accuracy: 0.71 - 0s 273us/sample - loss: 0.7210 - accuracy: 0.6250 - val_loss: 0.7114 - val_accuracy: 0.6500\n",
      "Epoch 4/10\n",
      "80/80 [==============================] - ETA: 0s - loss: 0.9075 - accuracy: 0.46 - 0s 138us/sample - loss: 0.7444 - accuracy: 0.5500 - val_loss: 0.6835 - val_accuracy: 0.6000\n",
      "Epoch 5/10\n",
      "80/80 [==============================] - ETA: 0s - loss: 0.8924 - accuracy: 0.43 - 0s 154us/sample - loss: 0.8079 - accuracy: 0.5375 - val_loss: 0.6605 - val_accuracy: 0.4500\n",
      "Epoch 6/10\n",
      "80/80 [==============================] - ETA: 0s - loss: 0.7026 - accuracy: 0.65 - 0s 174us/sample - loss: 0.7725 - accuracy: 0.5750 - val_loss: 0.6693 - val_accuracy: 0.4500\n",
      "Epoch 7/10\n",
      "80/80 [==============================] - ETA: 0s - loss: 0.6965 - accuracy: 0.62 - 0s 183us/sample - loss: 0.7172 - accuracy: 0.6375 - val_loss: 0.6876 - val_accuracy: 0.5500\n",
      "Epoch 8/10\n",
      "80/80 [==============================] - ETA: 0s - loss: 0.6879 - accuracy: 0.65 - 0s 374us/sample - loss: 0.6873 - accuracy: 0.6375 - val_loss: 0.6859 - val_accuracy: 0.4500\n",
      "Epoch 9/10\n",
      "80/80 [==============================] - ETA: 0s - loss: 0.7022 - accuracy: 0.59 - 0s 224us/sample - loss: 0.7157 - accuracy: 0.6125 - val_loss: 0.6902 - val_accuracy: 0.6000\n",
      "Epoch 10/10\n",
      "80/80 [==============================] - ETA: 0s - loss: 0.8253 - accuracy: 0.62 - 0s 168us/sample - loss: 0.7017 - accuracy: 0.6500 - val_loss: 0.6760 - val_accuracy: 0.4500\n"
     ]
    },
    {
     "data": {
      "text/html": [
       "<span style=\"color:#4527A0\"><h1 style=\"font-size:18px\">Trial complete</h1></span>"
      ],
      "text/plain": [
       "<IPython.core.display.HTML object>"
      ]
     },
     "metadata": {},
     "output_type": "display_data"
    },
    {
     "data": {
      "text/html": [
       "<span style=\"color:#4527A0\"><h1 style=\"font-size:18px\">Trial summary</h1></span>"
      ],
      "text/plain": [
       "<IPython.core.display.HTML object>"
      ]
     },
     "metadata": {},
     "output_type": "display_data"
    },
    {
     "data": {
      "text/html": [
       "<span style=\"color:cyan\"> |-Trial ID: 9202211f768145cf18c705b3b618e6d4</span>"
      ],
      "text/plain": [
       "<IPython.core.display.HTML object>"
      ]
     },
     "metadata": {},
     "output_type": "display_data"
    },
    {
     "data": {
      "text/html": [
       "<span style=\"color:cyan\"> |-Score: 0.6499999761581421</span>"
      ],
      "text/plain": [
       "<IPython.core.display.HTML object>"
      ]
     },
     "metadata": {},
     "output_type": "display_data"
    },
    {
     "data": {
      "text/html": [
       "<span style=\"color:cyan\"> |-Best step: 0</span>"
      ],
      "text/plain": [
       "<IPython.core.display.HTML object>"
      ]
     },
     "metadata": {},
     "output_type": "display_data"
    },
    {
     "data": {
      "text/html": [
       "<span style=\"color:#7E57C2\"><h2 style=\"font-size:16px\">Hyperparameters:</h2></span>"
      ],
      "text/plain": [
       "<IPython.core.display.HTML object>"
      ]
     },
     "metadata": {},
     "output_type": "display_data"
    },
    {
     "data": {
      "text/html": [
       "<span style=\"color:cyan\"> |-activation: relu</span>"
      ],
      "text/plain": [
       "<IPython.core.display.HTML object>"
      ]
     },
     "metadata": {},
     "output_type": "display_data"
    },
    {
     "data": {
      "text/html": [
       "<span style=\"color:blue\"> |-drop_rate: 0.1</span>"
      ],
      "text/plain": [
       "<IPython.core.display.HTML object>"
      ]
     },
     "metadata": {},
     "output_type": "display_data"
    },
    {
     "data": {
      "text/html": [
       "<span style=\"color:cyan\"> |-optimizer: rmsprop</span>"
      ],
      "text/plain": [
       "<IPython.core.display.HTML object>"
      ]
     },
     "metadata": {},
     "output_type": "display_data"
    },
    {
     "data": {
      "text/html": [
       "<span style=\"color:blue\"> |-units: 88</span>"
      ],
      "text/plain": [
       "<IPython.core.display.HTML object>"
      ]
     },
     "metadata": {},
     "output_type": "display_data"
    },
    {
     "name": "stdout",
     "output_type": "stream",
     "text": [
      "WARNING:tensorflow:Falling back from v2 loop because of error: Failed to find data adapter that can handle input: <class 'pandas.core.frame.DataFrame'>, <class 'NoneType'>\n",
      "Train on 80 samples, validate on 20 samples\n",
      "Epoch 1/10\n",
      "80/80 [==============================] - ETA: 0s - loss: 0.7576 - accuracy: 0.46 - 0s 5ms/sample - loss: 0.7199 - accuracy: 0.4750 - val_loss: 0.7563 - val_accuracy: 0.4000\n",
      "Epoch 2/10\n",
      "80/80 [==============================] - ETA: 0s - loss: 0.6922 - accuracy: 0.53 - 0s 421us/sample - loss: 0.6818 - accuracy: 0.5625 - val_loss: 0.7347 - val_accuracy: 0.4000\n",
      "Epoch 3/10\n",
      "80/80 [==============================] - ETA: 0s - loss: 0.7106 - accuracy: 0.53 - 0s 789us/sample - loss: 0.6684 - accuracy: 0.5750 - val_loss: 0.7268 - val_accuracy: 0.5000\n",
      "Epoch 4/10\n",
      "80/80 [==============================] - ETA: 0s - loss: 0.7198 - accuracy: 0.56 - 0s 1ms/sample - loss: 0.6622 - accuracy: 0.6000 - val_loss: 0.7212 - val_accuracy: 0.5500\n",
      "Epoch 5/10\n",
      "80/80 [==============================] - ETA: 0s - loss: 0.6890 - accuracy: 0.59 - 0s 935us/sample - loss: 0.6521 - accuracy: 0.6250 - val_loss: 0.7168 - val_accuracy: 0.6000\n",
      "Epoch 6/10\n",
      "80/80 [==============================] - ETA: 0s - loss: 0.5535 - accuracy: 0.81 - 0s 208us/sample - loss: 0.6468 - accuracy: 0.6250 - val_loss: 0.7184 - val_accuracy: 0.5500\n",
      "Epoch 7/10\n",
      "80/80 [==============================] - ETA: 0s - loss: 0.5937 - accuracy: 0.65 - 0s 216us/sample - loss: 0.6419 - accuracy: 0.6000 - val_loss: 0.7100 - val_accuracy: 0.6000\n",
      "Epoch 8/10\n",
      "80/80 [==============================] - ETA: 0s - loss: 0.6027 - accuracy: 0.71 - 0s 175us/sample - loss: 0.6371 - accuracy: 0.6625 - val_loss: 0.7137 - val_accuracy: 0.5500\n",
      "Epoch 9/10\n",
      "80/80 [==============================] - ETA: 0s - loss: 0.6491 - accuracy: 0.59 - 0s 654us/sample - loss: 0.6362 - accuracy: 0.6375 - val_loss: 0.7069 - val_accuracy: 0.6500\n",
      "Epoch 10/10\n",
      "80/80 [==============================] - ETA: 0s - loss: 0.6359 - accuracy: 0.68 - 0s 203us/sample - loss: 0.6287 - accuracy: 0.6625 - val_loss: 0.7030 - val_accuracy: 0.6500\n",
      "WARNING:tensorflow:Falling back from v2 loop because of error: Failed to find data adapter that can handle input: <class 'pandas.core.frame.DataFrame'>, <class 'NoneType'>\n",
      "Train on 80 samples, validate on 20 samples\n",
      "Epoch 1/10\n",
      "80/80 [==============================] - ETA: 0s - loss: 0.7080 - accuracy: 0.59 - 0s 4ms/sample - loss: 0.7233 - accuracy: 0.5750 - val_loss: 0.7565 - val_accuracy: 0.4500\n",
      "Epoch 2/10\n",
      "80/80 [==============================] - ETA: 0s - loss: 0.6820 - accuracy: 0.59 - 0s 336us/sample - loss: 0.7052 - accuracy: 0.5750 - val_loss: 0.7495 - val_accuracy: 0.4000\n",
      "Epoch 3/10\n",
      "80/80 [==============================] - ETA: 0s - loss: 0.7169 - accuracy: 0.53 - 0s 260us/sample - loss: 0.6956 - accuracy: 0.5875 - val_loss: 0.7436 - val_accuracy: 0.4000\n",
      "Epoch 4/10\n",
      "80/80 [==============================] - ETA: 0s - loss: 0.6068 - accuracy: 0.68 - 0s 142us/sample - loss: 0.6914 - accuracy: 0.5750 - val_loss: 0.7303 - val_accuracy: 0.4000\n",
      "Epoch 5/10\n",
      "80/80 [==============================] - ETA: 0s - loss: 0.6588 - accuracy: 0.65 - 0s 161us/sample - loss: 0.6793 - accuracy: 0.5875 - val_loss: 0.7267 - val_accuracy: 0.4000\n",
      "Epoch 6/10\n",
      "80/80 [==============================] - ETA: 0s - loss: 0.6537 - accuracy: 0.56 - 0s 140us/sample - loss: 0.6726 - accuracy: 0.5875 - val_loss: 0.7243 - val_accuracy: 0.4000\n",
      "Epoch 7/10\n",
      "80/80 [==============================] - ETA: 0s - loss: 0.6302 - accuracy: 0.68 - 0s 152us/sample - loss: 0.6727 - accuracy: 0.6250 - val_loss: 0.7211 - val_accuracy: 0.4000\n",
      "Epoch 8/10\n",
      "80/80 [==============================] - ETA: 0s - loss: 0.6471 - accuracy: 0.59 - 0s 159us/sample - loss: 0.6618 - accuracy: 0.6250 - val_loss: 0.7182 - val_accuracy: 0.3500\n",
      "Epoch 9/10\n",
      "80/80 [==============================] - ETA: 0s - loss: 0.6597 - accuracy: 0.62 - 0s 187us/sample - loss: 0.6569 - accuracy: 0.6375 - val_loss: 0.7131 - val_accuracy: 0.4000\n",
      "Epoch 10/10\n",
      "80/80 [==============================] - ETA: 0s - loss: 0.6612 - accuracy: 0.65 - 0s 326us/sample - loss: 0.6551 - accuracy: 0.6375 - val_loss: 0.7073 - val_accuracy: 0.4000\n"
     ]
    },
    {
     "data": {
      "text/html": [
       "<span style=\"color:#4527A0\"><h1 style=\"font-size:18px\">Trial complete</h1></span>"
      ],
      "text/plain": [
       "<IPython.core.display.HTML object>"
      ]
     },
     "metadata": {},
     "output_type": "display_data"
    },
    {
     "data": {
      "text/html": [
       "<span style=\"color:#4527A0\"><h1 style=\"font-size:18px\">Trial summary</h1></span>"
      ],
      "text/plain": [
       "<IPython.core.display.HTML object>"
      ]
     },
     "metadata": {},
     "output_type": "display_data"
    },
    {
     "data": {
      "text/html": [
       "<span style=\"color:cyan\"> |-Trial ID: 2e3ac752216885d5099c1015b6dfe428</span>"
      ],
      "text/plain": [
       "<IPython.core.display.HTML object>"
      ]
     },
     "metadata": {},
     "output_type": "display_data"
    },
    {
     "data": {
      "text/html": [
       "<span style=\"color:cyan\"> |-Score: 0.5499999523162842</span>"
      ],
      "text/plain": [
       "<IPython.core.display.HTML object>"
      ]
     },
     "metadata": {},
     "output_type": "display_data"
    },
    {
     "data": {
      "text/html": [
       "<span style=\"color:cyan\"> |-Best step: 0</span>"
      ],
      "text/plain": [
       "<IPython.core.display.HTML object>"
      ]
     },
     "metadata": {},
     "output_type": "display_data"
    },
    {
     "data": {
      "text/html": [
       "<span style=\"color:#7E57C2\"><h2 style=\"font-size:16px\">Hyperparameters:</h2></span>"
      ],
      "text/plain": [
       "<IPython.core.display.HTML object>"
      ]
     },
     "metadata": {},
     "output_type": "display_data"
    },
    {
     "data": {
      "text/html": [
       "<span style=\"color:cyan\"> |-activation: tanh</span>"
      ],
      "text/plain": [
       "<IPython.core.display.HTML object>"
      ]
     },
     "metadata": {},
     "output_type": "display_data"
    },
    {
     "data": {
      "text/html": [
       "<span style=\"color:blue\"> |-drop_rate: 0.0</span>"
      ],
      "text/plain": [
       "<IPython.core.display.HTML object>"
      ]
     },
     "metadata": {},
     "output_type": "display_data"
    },
    {
     "data": {
      "text/html": [
       "<span style=\"color:cyan\"> |-optimizer: sgd</span>"
      ],
      "text/plain": [
       "<IPython.core.display.HTML object>"
      ]
     },
     "metadata": {},
     "output_type": "display_data"
    },
    {
     "data": {
      "text/html": [
       "<span style=\"color:blue\"> |-units: 88</span>"
      ],
      "text/plain": [
       "<IPython.core.display.HTML object>"
      ]
     },
     "metadata": {},
     "output_type": "display_data"
    },
    {
     "name": "stdout",
     "output_type": "stream",
     "text": [
      "WARNING:tensorflow:Falling back from v2 loop because of error: Failed to find data adapter that can handle input: <class 'pandas.core.frame.DataFrame'>, <class 'NoneType'>\n",
      "Train on 80 samples, validate on 20 samples\n",
      "Epoch 1/10\n",
      "80/80 [==============================] - ETA: 0s - loss: 0.9342 - accuracy: 0.59 - 0s 6ms/sample - loss: 0.8994 - accuracy: 0.5625 - val_loss: 0.6997 - val_accuracy: 0.7000\n",
      "Epoch 2/10\n",
      "80/80 [==============================] - ETA: 0s - loss: 0.8113 - accuracy: 0.53 - 0s 349us/sample - loss: 0.8764 - accuracy: 0.5000 - val_loss: 0.6736 - val_accuracy: 0.7000\n",
      "Epoch 3/10\n",
      "80/80 [==============================] - ETA: 0s - loss: 0.9307 - accuracy: 0.50 - 0s 235us/sample - loss: 0.8176 - accuracy: 0.5250 - val_loss: 0.6588 - val_accuracy: 0.7000\n",
      "Epoch 4/10\n",
      "80/80 [==============================] - ETA: 0s - loss: 0.8864 - accuracy: 0.46 - 0s 152us/sample - loss: 0.8218 - accuracy: 0.4875 - val_loss: 0.6600 - val_accuracy: 0.6000\n",
      "Epoch 5/10\n",
      "80/80 [==============================] - ETA: 0s - loss: 0.8875 - accuracy: 0.43 - 0s 129us/sample - loss: 0.7916 - accuracy: 0.5500 - val_loss: 0.6423 - val_accuracy: 0.6000\n",
      "Epoch 6/10\n",
      "80/80 [==============================] - ETA: 0s - loss: 0.6393 - accuracy: 0.62 - 0s 253us/sample - loss: 0.7244 - accuracy: 0.5875 - val_loss: 0.6389 - val_accuracy: 0.6000\n",
      "Epoch 7/10\n",
      "80/80 [==============================] - ETA: 0s - loss: 0.8007 - accuracy: 0.40 - 0s 169us/sample - loss: 0.7334 - accuracy: 0.4750 - val_loss: 0.6515 - val_accuracy: 0.6000\n",
      "Epoch 8/10\n",
      "80/80 [==============================] - ETA: 0s - loss: 0.8199 - accuracy: 0.56 - 0s 185us/sample - loss: 0.7683 - accuracy: 0.5250 - val_loss: 0.6346 - val_accuracy: 0.7000\n",
      "Epoch 9/10\n",
      "80/80 [==============================] - ETA: 0s - loss: 0.6910 - accuracy: 0.65 - 0s 141us/sample - loss: 0.7276 - accuracy: 0.5750 - val_loss: 0.6326 - val_accuracy: 0.7000\n",
      "Epoch 10/10\n",
      "80/80 [==============================] - ETA: 0s - loss: 0.7636 - accuracy: 0.53 - 0s 149us/sample - loss: 0.7175 - accuracy: 0.6000 - val_loss: 0.6446 - val_accuracy: 0.5500\n",
      "WARNING:tensorflow:Falling back from v2 loop because of error: Failed to find data adapter that can handle input: <class 'pandas.core.frame.DataFrame'>, <class 'NoneType'>\n",
      "Train on 80 samples, validate on 20 samples\n",
      "Epoch 1/10\n",
      "80/80 [==============================] - ETA: 0s - loss: 1.2084 - accuracy: 0.46 - 0s 5ms/sample - loss: 0.9382 - accuracy: 0.5375 - val_loss: 0.8255 - val_accuracy: 0.5500\n",
      "Epoch 2/10\n",
      "80/80 [==============================] - ETA: 0s - loss: 0.9991 - accuracy: 0.43 - 0s 351us/sample - loss: 0.8316 - accuracy: 0.5500 - val_loss: 0.7762 - val_accuracy: 0.5500\n",
      "Epoch 3/10\n",
      "80/80 [==============================] - ETA: 0s - loss: 0.7067 - accuracy: 0.62 - 0s 190us/sample - loss: 0.7721 - accuracy: 0.5500 - val_loss: 0.7720 - val_accuracy: 0.5500\n",
      "Epoch 4/10\n",
      "80/80 [==============================] - ETA: 0s - loss: 0.9099 - accuracy: 0.46 - 0s 175us/sample - loss: 0.8077 - accuracy: 0.5000 - val_loss: 0.7582 - val_accuracy: 0.5500\n",
      "Epoch 5/10\n",
      "80/80 [==============================] - ETA: 0s - loss: 0.7647 - accuracy: 0.50 - 0s 130us/sample - loss: 0.7801 - accuracy: 0.5250 - val_loss: 0.7455 - val_accuracy: 0.5500\n",
      "Epoch 6/10\n",
      "80/80 [==============================] - ETA: 0s - loss: 0.7718 - accuracy: 0.46 - 0s 170us/sample - loss: 0.7850 - accuracy: 0.4875 - val_loss: 0.7488 - val_accuracy: 0.5500\n",
      "Epoch 7/10\n",
      "80/80 [==============================] - ETA: 0s - loss: 0.7369 - accuracy: 0.56 - 0s 163us/sample - loss: 0.7213 - accuracy: 0.5625 - val_loss: 0.7439 - val_accuracy: 0.5500\n",
      "Epoch 8/10\n",
      "80/80 [==============================] - ETA: 0s - loss: 0.7494 - accuracy: 0.53 - 0s 154us/sample - loss: 0.7371 - accuracy: 0.5500 - val_loss: 0.7460 - val_accuracy: 0.5500\n",
      "Epoch 9/10\n",
      "80/80 [==============================] - ETA: 0s - loss: 0.7365 - accuracy: 0.56 - 0s 207us/sample - loss: 0.6794 - accuracy: 0.6125 - val_loss: 0.7452 - val_accuracy: 0.5000\n",
      "Epoch 10/10\n",
      "80/80 [==============================] - ETA: 0s - loss: 0.7462 - accuracy: 0.59 - 0s 143us/sample - loss: 0.6961 - accuracy: 0.5750 - val_loss: 0.7361 - val_accuracy: 0.5000\n"
     ]
    },
    {
     "data": {
      "text/html": [
       "<span style=\"color:#4527A0\"><h1 style=\"font-size:18px\">Trial complete</h1></span>"
      ],
      "text/plain": [
       "<IPython.core.display.HTML object>"
      ]
     },
     "metadata": {},
     "output_type": "display_data"
    },
    {
     "data": {
      "text/html": [
       "<span style=\"color:#4527A0\"><h1 style=\"font-size:18px\">Trial summary</h1></span>"
      ],
      "text/plain": [
       "<IPython.core.display.HTML object>"
      ]
     },
     "metadata": {},
     "output_type": "display_data"
    },
    {
     "data": {
      "text/html": [
       "<span style=\"color:cyan\"> |-Trial ID: fcc90c660a450e700eee5b774cb117b6</span>"
      ],
      "text/plain": [
       "<IPython.core.display.HTML object>"
      ]
     },
     "metadata": {},
     "output_type": "display_data"
    },
    {
     "data": {
      "text/html": [
       "<span style=\"color:cyan\"> |-Score: 0.625</span>"
      ],
      "text/plain": [
       "<IPython.core.display.HTML object>"
      ]
     },
     "metadata": {},
     "output_type": "display_data"
    },
    {
     "data": {
      "text/html": [
       "<span style=\"color:cyan\"> |-Best step: 0</span>"
      ],
      "text/plain": [
       "<IPython.core.display.HTML object>"
      ]
     },
     "metadata": {},
     "output_type": "display_data"
    },
    {
     "data": {
      "text/html": [
       "<span style=\"color:#7E57C2\"><h2 style=\"font-size:16px\">Hyperparameters:</h2></span>"
      ],
      "text/plain": [
       "<IPython.core.display.HTML object>"
      ]
     },
     "metadata": {},
     "output_type": "display_data"
    },
    {
     "data": {
      "text/html": [
       "<span style=\"color:cyan\"> |-activation: tanh</span>"
      ],
      "text/plain": [
       "<IPython.core.display.HTML object>"
      ]
     },
     "metadata": {},
     "output_type": "display_data"
    },
    {
     "data": {
      "text/html": [
       "<span style=\"color:blue\"> |-drop_rate: 0.2</span>"
      ],
      "text/plain": [
       "<IPython.core.display.HTML object>"
      ]
     },
     "metadata": {},
     "output_type": "display_data"
    },
    {
     "data": {
      "text/html": [
       "<span style=\"color:cyan\"> |-optimizer: sgd</span>"
      ],
      "text/plain": [
       "<IPython.core.display.HTML object>"
      ]
     },
     "metadata": {},
     "output_type": "display_data"
    },
    {
     "data": {
      "text/html": [
       "<span style=\"color:blue\"> |-units: 120</span>"
      ],
      "text/plain": [
       "<IPython.core.display.HTML object>"
      ]
     },
     "metadata": {},
     "output_type": "display_data"
    },
    {
     "name": "stdout",
     "output_type": "stream",
     "text": [
      "WARNING:tensorflow:Falling back from v2 loop because of error: Failed to find data adapter that can handle input: <class 'pandas.core.frame.DataFrame'>, <class 'NoneType'>\n",
      "Train on 80 samples, validate on 20 samples\n",
      "Epoch 1/10\n",
      "80/80 [==============================] - ETA: 0s - loss: 0.9028 - accuracy: 0.37 - 0s 5ms/sample - loss: 0.9146 - accuracy: 0.3750 - val_loss: 0.7411 - val_accuracy: 0.4500\n",
      "Epoch 2/10\n",
      "80/80 [==============================] - ETA: 0s - loss: 0.8481 - accuracy: 0.46 - 0s 371us/sample - loss: 0.8533 - accuracy: 0.4375 - val_loss: 0.6953 - val_accuracy: 0.4500\n",
      "Epoch 3/10\n",
      "80/80 [==============================] - ETA: 0s - loss: 0.7488 - accuracy: 0.43 - 0s 728us/sample - loss: 0.7675 - accuracy: 0.4000 - val_loss: 0.6628 - val_accuracy: 0.6500\n",
      "Epoch 4/10\n",
      "80/80 [==============================] - ETA: 0s - loss: 0.7952 - accuracy: 0.46 - 0s 786us/sample - loss: 0.7585 - accuracy: 0.4875 - val_loss: 0.6413 - val_accuracy: 0.8000\n",
      "Epoch 5/10\n",
      "80/80 [==============================] - ETA: 0s - loss: 0.7136 - accuracy: 0.50 - 0s 351us/sample - loss: 0.7359 - accuracy: 0.4125 - val_loss: 0.6300 - val_accuracy: 0.7000\n",
      "Epoch 6/10\n",
      "80/80 [==============================] - ETA: 0s - loss: 0.7357 - accuracy: 0.53 - 0s 181us/sample - loss: 0.7161 - accuracy: 0.4625 - val_loss: 0.6263 - val_accuracy: 0.7000\n",
      "Epoch 7/10\n",
      "80/80 [==============================] - ETA: 0s - loss: 0.7306 - accuracy: 0.50 - 0s 201us/sample - loss: 0.7189 - accuracy: 0.5250 - val_loss: 0.6274 - val_accuracy: 0.6500\n",
      "Epoch 8/10\n",
      "80/80 [==============================] - ETA: 0s - loss: 0.6669 - accuracy: 0.62 - 0s 198us/sample - loss: 0.7256 - accuracy: 0.6000 - val_loss: 0.6308 - val_accuracy: 0.5500\n",
      "Epoch 9/10\n",
      "80/80 [==============================] - ETA: 0s - loss: 0.6546 - accuracy: 0.56 - 0s 200us/sample - loss: 0.6903 - accuracy: 0.5125 - val_loss: 0.6343 - val_accuracy: 0.5500\n",
      "Epoch 10/10\n",
      "80/80 [==============================] - ETA: 0s - loss: 0.6072 - accuracy: 0.75 - 0s 182us/sample - loss: 0.7045 - accuracy: 0.6000 - val_loss: 0.6362 - val_accuracy: 0.5500\n",
      "WARNING:tensorflow:Falling back from v2 loop because of error: Failed to find data adapter that can handle input: <class 'pandas.core.frame.DataFrame'>, <class 'NoneType'>\n",
      "Train on 80 samples, validate on 20 samples\n",
      "Epoch 1/10\n",
      "80/80 [==============================] - ETA: 0s - loss: 0.6537 - accuracy: 0.62 - 0s 5ms/sample - loss: 0.6832 - accuracy: 0.5625 - val_loss: 0.6842 - val_accuracy: 0.4500\n",
      "Epoch 2/10\n",
      "80/80 [==============================] - ETA: 0s - loss: 0.6193 - accuracy: 0.65 - 0s 258us/sample - loss: 0.6699 - accuracy: 0.5750 - val_loss: 0.6798 - val_accuracy: 0.5500\n",
      "Epoch 3/10\n",
      "80/80 [==============================] - ETA: 0s - loss: 0.6480 - accuracy: 0.62 - 0s 221us/sample - loss: 0.6705 - accuracy: 0.6000 - val_loss: 0.6779 - val_accuracy: 0.5500\n",
      "Epoch 4/10\n",
      "80/80 [==============================] - ETA: 0s - loss: 0.6413 - accuracy: 0.68 - 0s 151us/sample - loss: 0.6620 - accuracy: 0.6500 - val_loss: 0.6757 - val_accuracy: 0.5500\n",
      "Epoch 5/10\n",
      "80/80 [==============================] - ETA: 0s - loss: 0.6760 - accuracy: 0.59 - 0s 205us/sample - loss: 0.6932 - accuracy: 0.5000 - val_loss: 0.6732 - val_accuracy: 0.5500\n",
      "Epoch 6/10\n",
      "80/80 [==============================] - ETA: 0s - loss: 0.6201 - accuracy: 0.71 - 0s 233us/sample - loss: 0.6416 - accuracy: 0.6375 - val_loss: 0.6711 - val_accuracy: 0.5500\n",
      "Epoch 7/10\n",
      "80/80 [==============================] - ETA: 0s - loss: 0.6836 - accuracy: 0.59 - 0s 224us/sample - loss: 0.6667 - accuracy: 0.6125 - val_loss: 0.6693 - val_accuracy: 0.5500\n",
      "Epoch 8/10\n",
      "80/80 [==============================] - ETA: 0s - loss: 0.6322 - accuracy: 0.68 - 0s 155us/sample - loss: 0.6624 - accuracy: 0.6250 - val_loss: 0.6682 - val_accuracy: 0.5500\n",
      "Epoch 9/10\n",
      "80/80 [==============================] - ETA: 0s - loss: 0.6412 - accuracy: 0.62 - 0s 197us/sample - loss: 0.6353 - accuracy: 0.6375 - val_loss: 0.6665 - val_accuracy: 0.5500\n",
      "Epoch 10/10\n",
      "80/80 [==============================] - ETA: 0s - loss: 0.6962 - accuracy: 0.53 - 0s 180us/sample - loss: 0.6962 - accuracy: 0.5250 - val_loss: 0.6646 - val_accuracy: 0.5500\n"
     ]
    },
    {
     "data": {
      "text/html": [
       "<span style=\"color:#4527A0\"><h1 style=\"font-size:18px\">Trial complete</h1></span>"
      ],
      "text/plain": [
       "<IPython.core.display.HTML object>"
      ]
     },
     "metadata": {},
     "output_type": "display_data"
    },
    {
     "data": {
      "text/html": [
       "<span style=\"color:#4527A0\"><h1 style=\"font-size:18px\">Trial summary</h1></span>"
      ],
      "text/plain": [
       "<IPython.core.display.HTML object>"
      ]
     },
     "metadata": {},
     "output_type": "display_data"
    },
    {
     "data": {
      "text/html": [
       "<span style=\"color:cyan\"> |-Trial ID: b0fa36d05eb3160f862d8db81786a048</span>"
      ],
      "text/plain": [
       "<IPython.core.display.HTML object>"
      ]
     },
     "metadata": {},
     "output_type": "display_data"
    },
    {
     "data": {
      "text/html": [
       "<span style=\"color:cyan\"> |-Score: 0.675000011920929</span>"
      ],
      "text/plain": [
       "<IPython.core.display.HTML object>"
      ]
     },
     "metadata": {},
     "output_type": "display_data"
    },
    {
     "data": {
      "text/html": [
       "<span style=\"color:cyan\"> |-Best step: 0</span>"
      ],
      "text/plain": [
       "<IPython.core.display.HTML object>"
      ]
     },
     "metadata": {},
     "output_type": "display_data"
    },
    {
     "data": {
      "text/html": [
       "<span style=\"color:#7E57C2\"><h2 style=\"font-size:16px\">Hyperparameters:</h2></span>"
      ],
      "text/plain": [
       "<IPython.core.display.HTML object>"
      ]
     },
     "metadata": {},
     "output_type": "display_data"
    },
    {
     "data": {
      "text/html": [
       "<span style=\"color:cyan\"> |-activation: sigmoid</span>"
      ],
      "text/plain": [
       "<IPython.core.display.HTML object>"
      ]
     },
     "metadata": {},
     "output_type": "display_data"
    },
    {
     "data": {
      "text/html": [
       "<span style=\"color:blue\"> |-drop_rate: 0.1</span>"
      ],
      "text/plain": [
       "<IPython.core.display.HTML object>"
      ]
     },
     "metadata": {},
     "output_type": "display_data"
    },
    {
     "data": {
      "text/html": [
       "<span style=\"color:cyan\"> |-optimizer: adam</span>"
      ],
      "text/plain": [
       "<IPython.core.display.HTML object>"
      ]
     },
     "metadata": {},
     "output_type": "display_data"
    },
    {
     "data": {
      "text/html": [
       "<span style=\"color:blue\"> |-units: 72</span>"
      ],
      "text/plain": [
       "<IPython.core.display.HTML object>"
      ]
     },
     "metadata": {},
     "output_type": "display_data"
    },
    {
     "name": "stdout",
     "output_type": "stream",
     "text": [
      "INFO:tensorflow:Oracle triggered exit\n"
     ]
    }
   ],
   "source": [
    "#call search method for really triggering the configuration\n",
    "tuner.search(x=X_train,y=y_train,epochs=10,validation_data=(X_test, y_test))"
   ]
  },
  {
   "cell_type": "code",
   "execution_count": 43,
   "metadata": {},
   "outputs": [
    {
     "data": {
      "text/html": [
       "<span style=\"color:#4527A0\"><h1 style=\"font-size:18px\">Results summary</h1></span>"
      ],
      "text/plain": [
       "<IPython.core.display.HTML object>"
      ]
     },
     "metadata": {},
     "output_type": "display_data"
    },
    {
     "data": {
      "text/html": [
       "<span style=\"color:cyan\"> |-Results in test_dir\\tune_optimizer9</span>"
      ],
      "text/plain": [
       "<IPython.core.display.HTML object>"
      ]
     },
     "metadata": {},
     "output_type": "display_data"
    },
    {
     "data": {
      "text/html": [
       "<span style=\"color:cyan\"> |-Showing 10 best trials</span>"
      ],
      "text/plain": [
       "<IPython.core.display.HTML object>"
      ]
     },
     "metadata": {},
     "output_type": "display_data"
    },
    {
     "data": {
      "text/html": [
       "<span style=\"color:cyan\"> |-Objective(name='val_accuracy', direction='max')</span>"
      ],
      "text/plain": [
       "<IPython.core.display.HTML object>"
      ]
     },
     "metadata": {},
     "output_type": "display_data"
    },
    {
     "data": {
      "text/html": [
       "<span style=\"color:#4527A0\"><h1 style=\"font-size:18px\">Trial summary</h1></span>"
      ],
      "text/plain": [
       "<IPython.core.display.HTML object>"
      ]
     },
     "metadata": {},
     "output_type": "display_data"
    },
    {
     "data": {
      "text/html": [
       "<span style=\"color:cyan\"> |-Trial ID: b0fa36d05eb3160f862d8db81786a048</span>"
      ],
      "text/plain": [
       "<IPython.core.display.HTML object>"
      ]
     },
     "metadata": {},
     "output_type": "display_data"
    },
    {
     "data": {
      "text/html": [
       "<span style=\"color:cyan\"> |-Score: 0.675000011920929</span>"
      ],
      "text/plain": [
       "<IPython.core.display.HTML object>"
      ]
     },
     "metadata": {},
     "output_type": "display_data"
    },
    {
     "data": {
      "text/html": [
       "<span style=\"color:cyan\"> |-Best step: 0</span>"
      ],
      "text/plain": [
       "<IPython.core.display.HTML object>"
      ]
     },
     "metadata": {},
     "output_type": "display_data"
    },
    {
     "data": {
      "text/html": [
       "<span style=\"color:#7E57C2\"><h2 style=\"font-size:16px\">Hyperparameters:</h2></span>"
      ],
      "text/plain": [
       "<IPython.core.display.HTML object>"
      ]
     },
     "metadata": {},
     "output_type": "display_data"
    },
    {
     "data": {
      "text/html": [
       "<span style=\"color:cyan\"> |-activation: sigmoid</span>"
      ],
      "text/plain": [
       "<IPython.core.display.HTML object>"
      ]
     },
     "metadata": {},
     "output_type": "display_data"
    },
    {
     "data": {
      "text/html": [
       "<span style=\"color:blue\"> |-drop_rate: 0.1</span>"
      ],
      "text/plain": [
       "<IPython.core.display.HTML object>"
      ]
     },
     "metadata": {},
     "output_type": "display_data"
    },
    {
     "data": {
      "text/html": [
       "<span style=\"color:cyan\"> |-optimizer: adam</span>"
      ],
      "text/plain": [
       "<IPython.core.display.HTML object>"
      ]
     },
     "metadata": {},
     "output_type": "display_data"
    },
    {
     "data": {
      "text/html": [
       "<span style=\"color:blue\"> |-units: 72</span>"
      ],
      "text/plain": [
       "<IPython.core.display.HTML object>"
      ]
     },
     "metadata": {},
     "output_type": "display_data"
    },
    {
     "data": {
      "text/html": [
       "<span style=\"color:#4527A0\"><h1 style=\"font-size:18px\">Trial summary</h1></span>"
      ],
      "text/plain": [
       "<IPython.core.display.HTML object>"
      ]
     },
     "metadata": {},
     "output_type": "display_data"
    },
    {
     "data": {
      "text/html": [
       "<span style=\"color:cyan\"> |-Trial ID: 9202211f768145cf18c705b3b618e6d4</span>"
      ],
      "text/plain": [
       "<IPython.core.display.HTML object>"
      ]
     },
     "metadata": {},
     "output_type": "display_data"
    },
    {
     "data": {
      "text/html": [
       "<span style=\"color:cyan\"> |-Score: 0.6499999761581421</span>"
      ],
      "text/plain": [
       "<IPython.core.display.HTML object>"
      ]
     },
     "metadata": {},
     "output_type": "display_data"
    },
    {
     "data": {
      "text/html": [
       "<span style=\"color:cyan\"> |-Best step: 0</span>"
      ],
      "text/plain": [
       "<IPython.core.display.HTML object>"
      ]
     },
     "metadata": {},
     "output_type": "display_data"
    },
    {
     "data": {
      "text/html": [
       "<span style=\"color:#7E57C2\"><h2 style=\"font-size:16px\">Hyperparameters:</h2></span>"
      ],
      "text/plain": [
       "<IPython.core.display.HTML object>"
      ]
     },
     "metadata": {},
     "output_type": "display_data"
    },
    {
     "data": {
      "text/html": [
       "<span style=\"color:cyan\"> |-activation: relu</span>"
      ],
      "text/plain": [
       "<IPython.core.display.HTML object>"
      ]
     },
     "metadata": {},
     "output_type": "display_data"
    },
    {
     "data": {
      "text/html": [
       "<span style=\"color:blue\"> |-drop_rate: 0.1</span>"
      ],
      "text/plain": [
       "<IPython.core.display.HTML object>"
      ]
     },
     "metadata": {},
     "output_type": "display_data"
    },
    {
     "data": {
      "text/html": [
       "<span style=\"color:cyan\"> |-optimizer: rmsprop</span>"
      ],
      "text/plain": [
       "<IPython.core.display.HTML object>"
      ]
     },
     "metadata": {},
     "output_type": "display_data"
    },
    {
     "data": {
      "text/html": [
       "<span style=\"color:blue\"> |-units: 88</span>"
      ],
      "text/plain": [
       "<IPython.core.display.HTML object>"
      ]
     },
     "metadata": {},
     "output_type": "display_data"
    },
    {
     "data": {
      "text/html": [
       "<span style=\"color:#4527A0\"><h1 style=\"font-size:18px\">Trial summary</h1></span>"
      ],
      "text/plain": [
       "<IPython.core.display.HTML object>"
      ]
     },
     "metadata": {},
     "output_type": "display_data"
    },
    {
     "data": {
      "text/html": [
       "<span style=\"color:cyan\"> |-Trial ID: 9264209a993b464ebd1436094572d021</span>"
      ],
      "text/plain": [
       "<IPython.core.display.HTML object>"
      ]
     },
     "metadata": {},
     "output_type": "display_data"
    },
    {
     "data": {
      "text/html": [
       "<span style=\"color:cyan\"> |-Score: 0.625</span>"
      ],
      "text/plain": [
       "<IPython.core.display.HTML object>"
      ]
     },
     "metadata": {},
     "output_type": "display_data"
    },
    {
     "data": {
      "text/html": [
       "<span style=\"color:cyan\"> |-Best step: 0</span>"
      ],
      "text/plain": [
       "<IPython.core.display.HTML object>"
      ]
     },
     "metadata": {},
     "output_type": "display_data"
    },
    {
     "data": {
      "text/html": [
       "<span style=\"color:#7E57C2\"><h2 style=\"font-size:16px\">Hyperparameters:</h2></span>"
      ],
      "text/plain": [
       "<IPython.core.display.HTML object>"
      ]
     },
     "metadata": {},
     "output_type": "display_data"
    },
    {
     "data": {
      "text/html": [
       "<span style=\"color:cyan\"> |-activation: relu</span>"
      ],
      "text/plain": [
       "<IPython.core.display.HTML object>"
      ]
     },
     "metadata": {},
     "output_type": "display_data"
    },
    {
     "data": {
      "text/html": [
       "<span style=\"color:blue\"> |-drop_rate: 0.6</span>"
      ],
      "text/plain": [
       "<IPython.core.display.HTML object>"
      ]
     },
     "metadata": {},
     "output_type": "display_data"
    },
    {
     "data": {
      "text/html": [
       "<span style=\"color:cyan\"> |-optimizer: rmsprop</span>"
      ],
      "text/plain": [
       "<IPython.core.display.HTML object>"
      ]
     },
     "metadata": {},
     "output_type": "display_data"
    },
    {
     "data": {
      "text/html": [
       "<span style=\"color:blue\"> |-units: 24</span>"
      ],
      "text/plain": [
       "<IPython.core.display.HTML object>"
      ]
     },
     "metadata": {},
     "output_type": "display_data"
    },
    {
     "data": {
      "text/html": [
       "<span style=\"color:#4527A0\"><h1 style=\"font-size:18px\">Trial summary</h1></span>"
      ],
      "text/plain": [
       "<IPython.core.display.HTML object>"
      ]
     },
     "metadata": {},
     "output_type": "display_data"
    },
    {
     "data": {
      "text/html": [
       "<span style=\"color:cyan\"> |-Trial ID: c83c58daff20582c4371d9f8660bb60c</span>"
      ],
      "text/plain": [
       "<IPython.core.display.HTML object>"
      ]
     },
     "metadata": {},
     "output_type": "display_data"
    },
    {
     "data": {
      "text/html": [
       "<span style=\"color:cyan\"> |-Score: 0.625</span>"
      ],
      "text/plain": [
       "<IPython.core.display.HTML object>"
      ]
     },
     "metadata": {},
     "output_type": "display_data"
    },
    {
     "data": {
      "text/html": [
       "<span style=\"color:cyan\"> |-Best step: 0</span>"
      ],
      "text/plain": [
       "<IPython.core.display.HTML object>"
      ]
     },
     "metadata": {},
     "output_type": "display_data"
    },
    {
     "data": {
      "text/html": [
       "<span style=\"color:#7E57C2\"><h2 style=\"font-size:16px\">Hyperparameters:</h2></span>"
      ],
      "text/plain": [
       "<IPython.core.display.HTML object>"
      ]
     },
     "metadata": {},
     "output_type": "display_data"
    },
    {
     "data": {
      "text/html": [
       "<span style=\"color:cyan\"> |-activation: linear</span>"
      ],
      "text/plain": [
       "<IPython.core.display.HTML object>"
      ]
     },
     "metadata": {},
     "output_type": "display_data"
    },
    {
     "data": {
      "text/html": [
       "<span style=\"color:blue\"> |-drop_rate: 0.6</span>"
      ],
      "text/plain": [
       "<IPython.core.display.HTML object>"
      ]
     },
     "metadata": {},
     "output_type": "display_data"
    },
    {
     "data": {
      "text/html": [
       "<span style=\"color:cyan\"> |-optimizer: sgd</span>"
      ],
      "text/plain": [
       "<IPython.core.display.HTML object>"
      ]
     },
     "metadata": {},
     "output_type": "display_data"
    },
    {
     "data": {
      "text/html": [
       "<span style=\"color:blue\"> |-units: 104</span>"
      ],
      "text/plain": [
       "<IPython.core.display.HTML object>"
      ]
     },
     "metadata": {},
     "output_type": "display_data"
    },
    {
     "data": {
      "text/html": [
       "<span style=\"color:#4527A0\"><h1 style=\"font-size:18px\">Trial summary</h1></span>"
      ],
      "text/plain": [
       "<IPython.core.display.HTML object>"
      ]
     },
     "metadata": {},
     "output_type": "display_data"
    },
    {
     "data": {
      "text/html": [
       "<span style=\"color:cyan\"> |-Trial ID: fc3b37bb513dee03970ff9f4f0fe1441</span>"
      ],
      "text/plain": [
       "<IPython.core.display.HTML object>"
      ]
     },
     "metadata": {},
     "output_type": "display_data"
    },
    {
     "data": {
      "text/html": [
       "<span style=\"color:cyan\"> |-Score: 0.625</span>"
      ],
      "text/plain": [
       "<IPython.core.display.HTML object>"
      ]
     },
     "metadata": {},
     "output_type": "display_data"
    },
    {
     "data": {
      "text/html": [
       "<span style=\"color:cyan\"> |-Best step: 0</span>"
      ],
      "text/plain": [
       "<IPython.core.display.HTML object>"
      ]
     },
     "metadata": {},
     "output_type": "display_data"
    },
    {
     "data": {
      "text/html": [
       "<span style=\"color:#7E57C2\"><h2 style=\"font-size:16px\">Hyperparameters:</h2></span>"
      ],
      "text/plain": [
       "<IPython.core.display.HTML object>"
      ]
     },
     "metadata": {},
     "output_type": "display_data"
    },
    {
     "data": {
      "text/html": [
       "<span style=\"color:cyan\"> |-activation: softmax</span>"
      ],
      "text/plain": [
       "<IPython.core.display.HTML object>"
      ]
     },
     "metadata": {},
     "output_type": "display_data"
    },
    {
     "data": {
      "text/html": [
       "<span style=\"color:blue\"> |-drop_rate: 0.0</span>"
      ],
      "text/plain": [
       "<IPython.core.display.HTML object>"
      ]
     },
     "metadata": {},
     "output_type": "display_data"
    },
    {
     "data": {
      "text/html": [
       "<span style=\"color:cyan\"> |-optimizer: rmsprop</span>"
      ],
      "text/plain": [
       "<IPython.core.display.HTML object>"
      ]
     },
     "metadata": {},
     "output_type": "display_data"
    },
    {
     "data": {
      "text/html": [
       "<span style=\"color:blue\"> |-units: 72</span>"
      ],
      "text/plain": [
       "<IPython.core.display.HTML object>"
      ]
     },
     "metadata": {},
     "output_type": "display_data"
    },
    {
     "data": {
      "text/html": [
       "<span style=\"color:#4527A0\"><h1 style=\"font-size:18px\">Trial summary</h1></span>"
      ],
      "text/plain": [
       "<IPython.core.display.HTML object>"
      ]
     },
     "metadata": {},
     "output_type": "display_data"
    },
    {
     "data": {
      "text/html": [
       "<span style=\"color:cyan\"> |-Trial ID: fcc90c660a450e700eee5b774cb117b6</span>"
      ],
      "text/plain": [
       "<IPython.core.display.HTML object>"
      ]
     },
     "metadata": {},
     "output_type": "display_data"
    },
    {
     "data": {
      "text/html": [
       "<span style=\"color:cyan\"> |-Score: 0.625</span>"
      ],
      "text/plain": [
       "<IPython.core.display.HTML object>"
      ]
     },
     "metadata": {},
     "output_type": "display_data"
    },
    {
     "data": {
      "text/html": [
       "<span style=\"color:cyan\"> |-Best step: 0</span>"
      ],
      "text/plain": [
       "<IPython.core.display.HTML object>"
      ]
     },
     "metadata": {},
     "output_type": "display_data"
    },
    {
     "data": {
      "text/html": [
       "<span style=\"color:#7E57C2\"><h2 style=\"font-size:16px\">Hyperparameters:</h2></span>"
      ],
      "text/plain": [
       "<IPython.core.display.HTML object>"
      ]
     },
     "metadata": {},
     "output_type": "display_data"
    },
    {
     "data": {
      "text/html": [
       "<span style=\"color:cyan\"> |-activation: tanh</span>"
      ],
      "text/plain": [
       "<IPython.core.display.HTML object>"
      ]
     },
     "metadata": {},
     "output_type": "display_data"
    },
    {
     "data": {
      "text/html": [
       "<span style=\"color:blue\"> |-drop_rate: 0.2</span>"
      ],
      "text/plain": [
       "<IPython.core.display.HTML object>"
      ]
     },
     "metadata": {},
     "output_type": "display_data"
    },
    {
     "data": {
      "text/html": [
       "<span style=\"color:cyan\"> |-optimizer: sgd</span>"
      ],
      "text/plain": [
       "<IPython.core.display.HTML object>"
      ]
     },
     "metadata": {},
     "output_type": "display_data"
    },
    {
     "data": {
      "text/html": [
       "<span style=\"color:blue\"> |-units: 120</span>"
      ],
      "text/plain": [
       "<IPython.core.display.HTML object>"
      ]
     },
     "metadata": {},
     "output_type": "display_data"
    },
    {
     "data": {
      "text/html": [
       "<span style=\"color:#4527A0\"><h1 style=\"font-size:18px\">Trial summary</h1></span>"
      ],
      "text/plain": [
       "<IPython.core.display.HTML object>"
      ]
     },
     "metadata": {},
     "output_type": "display_data"
    },
    {
     "data": {
      "text/html": [
       "<span style=\"color:cyan\"> |-Trial ID: 667c928f929652e7b09dd43dc77fb3ce</span>"
      ],
      "text/plain": [
       "<IPython.core.display.HTML object>"
      ]
     },
     "metadata": {},
     "output_type": "display_data"
    },
    {
     "data": {
      "text/html": [
       "<span style=\"color:cyan\"> |-Score: 0.6000000238418579</span>"
      ],
      "text/plain": [
       "<IPython.core.display.HTML object>"
      ]
     },
     "metadata": {},
     "output_type": "display_data"
    },
    {
     "data": {
      "text/html": [
       "<span style=\"color:cyan\"> |-Best step: 0</span>"
      ],
      "text/plain": [
       "<IPython.core.display.HTML object>"
      ]
     },
     "metadata": {},
     "output_type": "display_data"
    },
    {
     "data": {
      "text/html": [
       "<span style=\"color:#7E57C2\"><h2 style=\"font-size:16px\">Hyperparameters:</h2></span>"
      ],
      "text/plain": [
       "<IPython.core.display.HTML object>"
      ]
     },
     "metadata": {},
     "output_type": "display_data"
    },
    {
     "data": {
      "text/html": [
       "<span style=\"color:cyan\"> |-activation: tanh</span>"
      ],
      "text/plain": [
       "<IPython.core.display.HTML object>"
      ]
     },
     "metadata": {},
     "output_type": "display_data"
    },
    {
     "data": {
      "text/html": [
       "<span style=\"color:blue\"> |-drop_rate: 0.1</span>"
      ],
      "text/plain": [
       "<IPython.core.display.HTML object>"
      ]
     },
     "metadata": {},
     "output_type": "display_data"
    },
    {
     "data": {
      "text/html": [
       "<span style=\"color:cyan\"> |-optimizer: sgd</span>"
      ],
      "text/plain": [
       "<IPython.core.display.HTML object>"
      ]
     },
     "metadata": {},
     "output_type": "display_data"
    },
    {
     "data": {
      "text/html": [
       "<span style=\"color:blue\"> |-units: 24</span>"
      ],
      "text/plain": [
       "<IPython.core.display.HTML object>"
      ]
     },
     "metadata": {},
     "output_type": "display_data"
    },
    {
     "data": {
      "text/html": [
       "<span style=\"color:#4527A0\"><h1 style=\"font-size:18px\">Trial summary</h1></span>"
      ],
      "text/plain": [
       "<IPython.core.display.HTML object>"
      ]
     },
     "metadata": {},
     "output_type": "display_data"
    },
    {
     "data": {
      "text/html": [
       "<span style=\"color:cyan\"> |-Trial ID: 63ef196d10d58404c914ede09e24635c</span>"
      ],
      "text/plain": [
       "<IPython.core.display.HTML object>"
      ]
     },
     "metadata": {},
     "output_type": "display_data"
    },
    {
     "data": {
      "text/html": [
       "<span style=\"color:cyan\"> |-Score: 0.6000000238418579</span>"
      ],
      "text/plain": [
       "<IPython.core.display.HTML object>"
      ]
     },
     "metadata": {},
     "output_type": "display_data"
    },
    {
     "data": {
      "text/html": [
       "<span style=\"color:cyan\"> |-Best step: 0</span>"
      ],
      "text/plain": [
       "<IPython.core.display.HTML object>"
      ]
     },
     "metadata": {},
     "output_type": "display_data"
    },
    {
     "data": {
      "text/html": [
       "<span style=\"color:#7E57C2\"><h2 style=\"font-size:16px\">Hyperparameters:</h2></span>"
      ],
      "text/plain": [
       "<IPython.core.display.HTML object>"
      ]
     },
     "metadata": {},
     "output_type": "display_data"
    },
    {
     "data": {
      "text/html": [
       "<span style=\"color:cyan\"> |-activation: softmax</span>"
      ],
      "text/plain": [
       "<IPython.core.display.HTML object>"
      ]
     },
     "metadata": {},
     "output_type": "display_data"
    },
    {
     "data": {
      "text/html": [
       "<span style=\"color:blue\"> |-drop_rate: 0.3</span>"
      ],
      "text/plain": [
       "<IPython.core.display.HTML object>"
      ]
     },
     "metadata": {},
     "output_type": "display_data"
    },
    {
     "data": {
      "text/html": [
       "<span style=\"color:cyan\"> |-optimizer: rmsprop</span>"
      ],
      "text/plain": [
       "<IPython.core.display.HTML object>"
      ]
     },
     "metadata": {},
     "output_type": "display_data"
    },
    {
     "data": {
      "text/html": [
       "<span style=\"color:blue\"> |-units: 72</span>"
      ],
      "text/plain": [
       "<IPython.core.display.HTML object>"
      ]
     },
     "metadata": {},
     "output_type": "display_data"
    },
    {
     "data": {
      "text/html": [
       "<span style=\"color:#4527A0\"><h1 style=\"font-size:18px\">Trial summary</h1></span>"
      ],
      "text/plain": [
       "<IPython.core.display.HTML object>"
      ]
     },
     "metadata": {},
     "output_type": "display_data"
    },
    {
     "data": {
      "text/html": [
       "<span style=\"color:cyan\"> |-Trial ID: 88a9c450a779c18cdfc8201fa5e067ca</span>"
      ],
      "text/plain": [
       "<IPython.core.display.HTML object>"
      ]
     },
     "metadata": {},
     "output_type": "display_data"
    },
    {
     "data": {
      "text/html": [
       "<span style=\"color:cyan\"> |-Score: 0.5750000476837158</span>"
      ],
      "text/plain": [
       "<IPython.core.display.HTML object>"
      ]
     },
     "metadata": {},
     "output_type": "display_data"
    },
    {
     "data": {
      "text/html": [
       "<span style=\"color:cyan\"> |-Best step: 0</span>"
      ],
      "text/plain": [
       "<IPython.core.display.HTML object>"
      ]
     },
     "metadata": {},
     "output_type": "display_data"
    },
    {
     "data": {
      "text/html": [
       "<span style=\"color:#7E57C2\"><h2 style=\"font-size:16px\">Hyperparameters:</h2></span>"
      ],
      "text/plain": [
       "<IPython.core.display.HTML object>"
      ]
     },
     "metadata": {},
     "output_type": "display_data"
    },
    {
     "data": {
      "text/html": [
       "<span style=\"color:cyan\"> |-activation: linear</span>"
      ],
      "text/plain": [
       "<IPython.core.display.HTML object>"
      ]
     },
     "metadata": {},
     "output_type": "display_data"
    },
    {
     "data": {
      "text/html": [
       "<span style=\"color:blue\"> |-drop_rate: 0.8</span>"
      ],
      "text/plain": [
       "<IPython.core.display.HTML object>"
      ]
     },
     "metadata": {},
     "output_type": "display_data"
    },
    {
     "data": {
      "text/html": [
       "<span style=\"color:cyan\"> |-optimizer: adam</span>"
      ],
      "text/plain": [
       "<IPython.core.display.HTML object>"
      ]
     },
     "metadata": {},
     "output_type": "display_data"
    },
    {
     "data": {
      "text/html": [
       "<span style=\"color:blue\"> |-units: 120</span>"
      ],
      "text/plain": [
       "<IPython.core.display.HTML object>"
      ]
     },
     "metadata": {},
     "output_type": "display_data"
    },
    {
     "data": {
      "text/html": [
       "<span style=\"color:#4527A0\"><h1 style=\"font-size:18px\">Trial summary</h1></span>"
      ],
      "text/plain": [
       "<IPython.core.display.HTML object>"
      ]
     },
     "metadata": {},
     "output_type": "display_data"
    },
    {
     "data": {
      "text/html": [
       "<span style=\"color:cyan\"> |-Trial ID: 2e3ac752216885d5099c1015b6dfe428</span>"
      ],
      "text/plain": [
       "<IPython.core.display.HTML object>"
      ]
     },
     "metadata": {},
     "output_type": "display_data"
    },
    {
     "data": {
      "text/html": [
       "<span style=\"color:cyan\"> |-Score: 0.5499999523162842</span>"
      ],
      "text/plain": [
       "<IPython.core.display.HTML object>"
      ]
     },
     "metadata": {},
     "output_type": "display_data"
    },
    {
     "data": {
      "text/html": [
       "<span style=\"color:cyan\"> |-Best step: 0</span>"
      ],
      "text/plain": [
       "<IPython.core.display.HTML object>"
      ]
     },
     "metadata": {},
     "output_type": "display_data"
    },
    {
     "data": {
      "text/html": [
       "<span style=\"color:#7E57C2\"><h2 style=\"font-size:16px\">Hyperparameters:</h2></span>"
      ],
      "text/plain": [
       "<IPython.core.display.HTML object>"
      ]
     },
     "metadata": {},
     "output_type": "display_data"
    },
    {
     "data": {
      "text/html": [
       "<span style=\"color:cyan\"> |-activation: tanh</span>"
      ],
      "text/plain": [
       "<IPython.core.display.HTML object>"
      ]
     },
     "metadata": {},
     "output_type": "display_data"
    },
    {
     "data": {
      "text/html": [
       "<span style=\"color:blue\"> |-drop_rate: 0.0</span>"
      ],
      "text/plain": [
       "<IPython.core.display.HTML object>"
      ]
     },
     "metadata": {},
     "output_type": "display_data"
    },
    {
     "data": {
      "text/html": [
       "<span style=\"color:cyan\"> |-optimizer: sgd</span>"
      ],
      "text/plain": [
       "<IPython.core.display.HTML object>"
      ]
     },
     "metadata": {},
     "output_type": "display_data"
    },
    {
     "data": {
      "text/html": [
       "<span style=\"color:blue\"> |-units: 88</span>"
      ],
      "text/plain": [
       "<IPython.core.display.HTML object>"
      ]
     },
     "metadata": {},
     "output_type": "display_data"
    }
   ],
   "source": [
    "tuner.results_summary()"
   ]
  },
  {
   "cell_type": "code",
   "execution_count": 44,
   "metadata": {},
   "outputs": [
    {
     "data": {
      "text/plain": [
       "{'activation': 'sigmoid', 'optimizer': 'adam', 'units': 72, 'drop_rate': 0.1}"
      ]
     },
     "execution_count": 44,
     "metadata": {},
     "output_type": "execute_result"
    }
   ],
   "source": [
    "#dump best hyperparameters\n",
    "tuner.get_best_hyperparameters()[0].values"
   ]
  },
  {
   "cell_type": "code",
   "execution_count": 45,
   "metadata": {},
   "outputs": [
    {
     "name": "stdout",
     "output_type": "stream",
     "text": [
      "Model: \"sequential\"\n",
      "_________________________________________________________________\n",
      "Layer (type)                 Output Shape              Param #   \n",
      "=================================================================\n",
      "dense (Dense)                (None, 72)                432       \n",
      "_________________________________________________________________\n",
      "dropout (Dropout)            (None, 72)                0         \n",
      "_________________________________________________________________\n",
      "dense_1 (Dense)              (None, 1)                 73        \n",
      "=================================================================\n",
      "Total params: 505\n",
      "Trainable params: 505\n",
      "Non-trainable params: 0\n",
      "_________________________________________________________________\n"
     ]
    }
   ],
   "source": [
    "#dump best model\n",
    "tuner.get_best_models()[0].summary()"
   ]
  },
  {
   "cell_type": "code",
   "execution_count": null,
   "metadata": {},
   "outputs": [],
   "source": []
  }
 ],
 "metadata": {
  "kernelspec": {
   "display_name": "Python 3",
   "language": "python",
   "name": "python3"
  },
  "language_info": {
   "codemirror_mode": {
    "name": "ipython",
    "version": 3
   },
   "file_extension": ".py",
   "mimetype": "text/x-python",
   "name": "python",
   "nbconvert_exporter": "python",
   "pygments_lexer": "ipython3",
   "version": "3.7.1"
  }
 },
 "nbformat": 4,
 "nbformat_minor": 2
}
